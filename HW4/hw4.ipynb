{
  "cells": [
    {
      "cell_type": "markdown",
      "id": "06b7f092",
      "metadata": {
        "id": "06b7f092"
      },
      "source": [
        "##### Advanced Statistical Analysis and Model-Based Learning (Fall 2024-2025)\n",
        "# Home Assignment 3\n",
        "#### Topics:\n",
        "- Statistical Estimation\n",
        "- Hypothesis Testing in one and two samples\n",
        "- ANOVA\n",
        "\n",
        "#### Due: 6/1/2025 by 18:30"
      ]
    },
    {
      "cell_type": "markdown",
      "id": "862aa9c4",
      "metadata": {
        "id": "862aa9c4"
      },
      "source": [
        "#### Instructions:\n",
        "- Write your IDs and date at the top cell.\n",
        "- Submit a copy of this notebook with code filled in the relevant places as the solution of coding exercises.\n",
        "- For theoretic exercises, you can either write your solution in the notebook using $\\LaTeX$ (preferred) or submit additional notes."
      ]
    },
    {
      "cell_type": "markdown",
      "id": "96f5eeaf",
      "metadata": {
        "id": "96f5eeaf"
      },
      "source": [
        "<hr>\n",
        "<hr>"
      ]
    },
    {
      "cell_type": "markdown",
      "id": "e83875d5",
      "metadata": {
        "id": "e83875d5"
      },
      "source": [
        "## Problem 1: ANOVA and Multiple Comparisons\n",
        "Consider Israeli wines in the wine dataset ``winemag-data_first150k.csv`` used in class (downloaded from Kaggle https://www.kaggle.com/datasets/zynicide/wine-reviews?select=winemag-data_first150k.csv). Use ANOVA to measure the effect of winery (``winary``) and price (``price``) on the quality (``points``) of wine of variety ``Cabernet Sauvignon``. Note: you can ignore the ``province`` filed in the data because it contains inaccurate information.\n",
        "\n",
        "Load dataset; replace the word ``Gamla`` with ``Golan Height Winary`` because this is the correct name of the winery; keep only relevant records according to the fields ``country`` and ``veriaty``; if you find any duplicated records in the data, remove those that are redundant. Also, we only include wineries with at least 3 samples. You can achieve the above by the code at the next cell."
      ]
    },
    {
      "cell_type": "code",
      "execution_count": 1,
      "id": "0a4816c5",
      "metadata": {
        "colab": {
          "base_uri": "https://localhost:8080/"
        },
        "id": "0a4816c5",
        "outputId": "fde9c785-9223-4af9-d7ad-b3f90f8d6486"
      },
      "outputs": [
        {
          "name": "stderr",
          "output_type": "stream",
          "text": [
            "<ipython-input-1-bebd8e54d0d3>:8: FutureWarning: Downcasting behavior in `replace` is deprecated and will be removed in a future version. To retain the old behavior, explicitly call `result.infer_objects(copy=False)`. To opt-in to the future behavior, set `pd.set_option('future.no_silent_downcasting', True)`\n",
            "  .replace('Gamla', 'Golan Heights Winery')\\\n"
          ]
        }
      ],
      "source": [
        "import pandas as pd\n",
        "wine_df = pd.read_csv(\"/content/winemag-data_first150k.csv\")\n",
        "variety = 'Cabernet Sauvignon'\n",
        "min_per_group = 3\n",
        "israeli_wines = wine_df[(wine_df.country == 'Israel') & (wine_df.variety == variety)]\\\n",
        "                .filter(['country', 'description','designation', 'points',\n",
        "                         'price','region_1', 'region_2', 'variety', 'winery'])\\\n",
        "                .replace('Gamla', 'Golan Heights Winery')\\\n",
        "                .drop_duplicates(keep='first')\\\n",
        "                .groupby('winery')\\\n",
        "                .filter(lambda x : len(x) >= min_per_group)\n"
      ]
    },
    {
      "cell_type": "markdown",
      "id": "681a4aa8",
      "metadata": {
        "id": "681a4aa8"
      },
      "source": [
        "1. Plot the boxplot with ``winery`` as the x-axis and ``points`` as the y-axis.\n",
        "2. Use ANOVA to figure out whether some wineries make better Cabernets than others; print the ANOVA table and explain your conclusion.\n",
        "\n",
        "3. **Multiple Comparisons**. Find which wineries have Cabernets ranked higher than others:\n",
        "\n",
        "    3.1. Run all t-tests of pairs of wineries; how many of the test's P-values fall below 0.05? Is it more than what expceted if all tests are null?\n",
        "\n",
        "    3.2. Use Bonferroni's method to decide which wineries ranked significantly higher than others by reporting on the list of pairs whose P-value is significant after Bonferroni's correction. Also indicate which one is ranked higher out of each pair.\n",
        "\n",
        "4. **Contrasts**. Using a single t-test, test the assumption that Cabernets in the Golan area wineries: ``Bazelet HaGolan``, ``Golan Heights Winery`` have the same quality as Judean Hills area wineries: ``Katlav``, ``Psagot``, ``Shiloh Winery``, ``Titora``, ``Yatir``. Assume that the variance of all wineries in the data is the same (not only the two involved in the comparison).\n",
        "\n",
        "5. **Multiple Comparisons and FDR**.\n",
        "Consider P-values from all t-tests of pairs of wineries.\n",
        "\n",
        "    5.1. Sort the P-values from small to large and plot the smallest 10% of the sorted list of P-values on a stem or a scatter plot in which the x-axis indicates the P-value rank (left most point is rank = 1, i.e., the smallest) and the y-axis the P-value's value.\n",
        "\n",
        "    5.2. Assume that different tests are independent; apply BH to select a set of winery pairs in which one winery is significantly better than the others while aiming for 0.05 false pairs. How many pairs were reported? is it more or less pairs than you discovered using Bonfferoni correction\n",
        "\n",
        "    5.3. Repeat the last item without the independence assumption, i.e., use the harmonic sum correction.\n",
        "\n",
        "The point: FDR controlling using BH is a more liberal (less conservative) approach to identify significant discoveries in the sense that it allows us to report on more discoveries if we are willing to replace family-wise error rate control with an expected false-discovery proportion guarantee.  \n"
      ]
    },
    {
      "cell_type": "code",
      "execution_count": 2,
      "id": "M0CATTzhHEai",
      "metadata": {
        "colab": {
          "base_uri": "https://localhost:8080/",
          "height": 206
        },
        "id": "M0CATTzhHEai",
        "outputId": "5c52773f-8c2e-45b3-9d78-08af02c34400"
      },
      "outputs": [
        {
          "data": {
            "application/vnd.google.colaboratory.intrinsic+json": {
              "type": "dataframe",
              "variable_name": "wine_df"
            },
            "text/html": [
              "\n",
              "  <div id=\"df-1081aeff-2a3e-469d-8edb-548232c4ba11\" class=\"colab-df-container\">\n",
              "    <div>\n",
              "<style scoped>\n",
              "    .dataframe tbody tr th:only-of-type {\n",
              "        vertical-align: middle;\n",
              "    }\n",
              "\n",
              "    .dataframe tbody tr th {\n",
              "        vertical-align: top;\n",
              "    }\n",
              "\n",
              "    .dataframe thead th {\n",
              "        text-align: right;\n",
              "    }\n",
              "</style>\n",
              "<table border=\"1\" class=\"dataframe\">\n",
              "  <thead>\n",
              "    <tr style=\"text-align: right;\">\n",
              "      <th></th>\n",
              "      <th>Unnamed: 0</th>\n",
              "      <th>country</th>\n",
              "      <th>description</th>\n",
              "      <th>designation</th>\n",
              "      <th>points</th>\n",
              "      <th>price</th>\n",
              "      <th>province</th>\n",
              "      <th>region_1</th>\n",
              "      <th>region_2</th>\n",
              "      <th>variety</th>\n",
              "      <th>winery</th>\n",
              "    </tr>\n",
              "  </thead>\n",
              "  <tbody>\n",
              "    <tr>\n",
              "      <th>0</th>\n",
              "      <td>0</td>\n",
              "      <td>US</td>\n",
              "      <td>This tremendous 100% varietal wine hails from ...</td>\n",
              "      <td>Martha's Vineyard</td>\n",
              "      <td>96</td>\n",
              "      <td>235.0</td>\n",
              "      <td>California</td>\n",
              "      <td>Napa Valley</td>\n",
              "      <td>Napa</td>\n",
              "      <td>Cabernet Sauvignon</td>\n",
              "      <td>Heitz</td>\n",
              "    </tr>\n",
              "    <tr>\n",
              "      <th>1</th>\n",
              "      <td>1</td>\n",
              "      <td>Spain</td>\n",
              "      <td>Ripe aromas of fig, blackberry and cassis are ...</td>\n",
              "      <td>Carodorum Selección Especial Reserva</td>\n",
              "      <td>96</td>\n",
              "      <td>110.0</td>\n",
              "      <td>Northern Spain</td>\n",
              "      <td>Toro</td>\n",
              "      <td>NaN</td>\n",
              "      <td>Tinta de Toro</td>\n",
              "      <td>Bodega Carmen Rodríguez</td>\n",
              "    </tr>\n",
              "    <tr>\n",
              "      <th>2</th>\n",
              "      <td>2</td>\n",
              "      <td>US</td>\n",
              "      <td>Mac Watson honors the memory of a wine once ma...</td>\n",
              "      <td>Special Selected Late Harvest</td>\n",
              "      <td>96</td>\n",
              "      <td>90.0</td>\n",
              "      <td>California</td>\n",
              "      <td>Knights Valley</td>\n",
              "      <td>Sonoma</td>\n",
              "      <td>Sauvignon Blanc</td>\n",
              "      <td>Macauley</td>\n",
              "    </tr>\n",
              "    <tr>\n",
              "      <th>3</th>\n",
              "      <td>3</td>\n",
              "      <td>US</td>\n",
              "      <td>This spent 20 months in 30% new French oak, an...</td>\n",
              "      <td>Reserve</td>\n",
              "      <td>96</td>\n",
              "      <td>65.0</td>\n",
              "      <td>Oregon</td>\n",
              "      <td>Willamette Valley</td>\n",
              "      <td>Willamette Valley</td>\n",
              "      <td>Pinot Noir</td>\n",
              "      <td>Ponzi</td>\n",
              "    </tr>\n",
              "    <tr>\n",
              "      <th>4</th>\n",
              "      <td>4</td>\n",
              "      <td>France</td>\n",
              "      <td>This is the top wine from La Bégude, named aft...</td>\n",
              "      <td>La Brûlade</td>\n",
              "      <td>95</td>\n",
              "      <td>66.0</td>\n",
              "      <td>Provence</td>\n",
              "      <td>Bandol</td>\n",
              "      <td>NaN</td>\n",
              "      <td>Provence red blend</td>\n",
              "      <td>Domaine de la Bégude</td>\n",
              "    </tr>\n",
              "  </tbody>\n",
              "</table>\n",
              "</div>\n",
              "    <div class=\"colab-df-buttons\">\n",
              "\n",
              "  <div class=\"colab-df-container\">\n",
              "    <button class=\"colab-df-convert\" onclick=\"convertToInteractive('df-1081aeff-2a3e-469d-8edb-548232c4ba11')\"\n",
              "            title=\"Convert this dataframe to an interactive table.\"\n",
              "            style=\"display:none;\">\n",
              "\n",
              "  <svg xmlns=\"http://www.w3.org/2000/svg\" height=\"24px\" viewBox=\"0 -960 960 960\">\n",
              "    <path d=\"M120-120v-720h720v720H120Zm60-500h600v-160H180v160Zm220 220h160v-160H400v160Zm0 220h160v-160H400v160ZM180-400h160v-160H180v160Zm440 0h160v-160H620v160ZM180-180h160v-160H180v160Zm440 0h160v-160H620v160Z\"/>\n",
              "  </svg>\n",
              "    </button>\n",
              "\n",
              "  <style>\n",
              "    .colab-df-container {\n",
              "      display:flex;\n",
              "      gap: 12px;\n",
              "    }\n",
              "\n",
              "    .colab-df-convert {\n",
              "      background-color: #E8F0FE;\n",
              "      border: none;\n",
              "      border-radius: 50%;\n",
              "      cursor: pointer;\n",
              "      display: none;\n",
              "      fill: #1967D2;\n",
              "      height: 32px;\n",
              "      padding: 0 0 0 0;\n",
              "      width: 32px;\n",
              "    }\n",
              "\n",
              "    .colab-df-convert:hover {\n",
              "      background-color: #E2EBFA;\n",
              "      box-shadow: 0px 1px 2px rgba(60, 64, 67, 0.3), 0px 1px 3px 1px rgba(60, 64, 67, 0.15);\n",
              "      fill: #174EA6;\n",
              "    }\n",
              "\n",
              "    .colab-df-buttons div {\n",
              "      margin-bottom: 4px;\n",
              "    }\n",
              "\n",
              "    [theme=dark] .colab-df-convert {\n",
              "      background-color: #3B4455;\n",
              "      fill: #D2E3FC;\n",
              "    }\n",
              "\n",
              "    [theme=dark] .colab-df-convert:hover {\n",
              "      background-color: #434B5C;\n",
              "      box-shadow: 0px 1px 3px 1px rgba(0, 0, 0, 0.15);\n",
              "      filter: drop-shadow(0px 1px 2px rgba(0, 0, 0, 0.3));\n",
              "      fill: #FFFFFF;\n",
              "    }\n",
              "  </style>\n",
              "\n",
              "    <script>\n",
              "      const buttonEl =\n",
              "        document.querySelector('#df-1081aeff-2a3e-469d-8edb-548232c4ba11 button.colab-df-convert');\n",
              "      buttonEl.style.display =\n",
              "        google.colab.kernel.accessAllowed ? 'block' : 'none';\n",
              "\n",
              "      async function convertToInteractive(key) {\n",
              "        const element = document.querySelector('#df-1081aeff-2a3e-469d-8edb-548232c4ba11');\n",
              "        const dataTable =\n",
              "          await google.colab.kernel.invokeFunction('convertToInteractive',\n",
              "                                                    [key], {});\n",
              "        if (!dataTable) return;\n",
              "\n",
              "        const docLinkHtml = 'Like what you see? Visit the ' +\n",
              "          '<a target=\"_blank\" href=https://colab.research.google.com/notebooks/data_table.ipynb>data table notebook</a>'\n",
              "          + ' to learn more about interactive tables.';\n",
              "        element.innerHTML = '';\n",
              "        dataTable['output_type'] = 'display_data';\n",
              "        await google.colab.output.renderOutput(dataTable, element);\n",
              "        const docLink = document.createElement('div');\n",
              "        docLink.innerHTML = docLinkHtml;\n",
              "        element.appendChild(docLink);\n",
              "      }\n",
              "    </script>\n",
              "  </div>\n",
              "\n",
              "\n",
              "<div id=\"df-49fe759d-af87-4047-a11f-6ccffc1affa4\">\n",
              "  <button class=\"colab-df-quickchart\" onclick=\"quickchart('df-49fe759d-af87-4047-a11f-6ccffc1affa4')\"\n",
              "            title=\"Suggest charts\"\n",
              "            style=\"display:none;\">\n",
              "\n",
              "<svg xmlns=\"http://www.w3.org/2000/svg\" height=\"24px\"viewBox=\"0 0 24 24\"\n",
              "     width=\"24px\">\n",
              "    <g>\n",
              "        <path d=\"M19 3H5c-1.1 0-2 .9-2 2v14c0 1.1.9 2 2 2h14c1.1 0 2-.9 2-2V5c0-1.1-.9-2-2-2zM9 17H7v-7h2v7zm4 0h-2V7h2v10zm4 0h-2v-4h2v4z\"/>\n",
              "    </g>\n",
              "</svg>\n",
              "  </button>\n",
              "\n",
              "<style>\n",
              "  .colab-df-quickchart {\n",
              "      --bg-color: #E8F0FE;\n",
              "      --fill-color: #1967D2;\n",
              "      --hover-bg-color: #E2EBFA;\n",
              "      --hover-fill-color: #174EA6;\n",
              "      --disabled-fill-color: #AAA;\n",
              "      --disabled-bg-color: #DDD;\n",
              "  }\n",
              "\n",
              "  [theme=dark] .colab-df-quickchart {\n",
              "      --bg-color: #3B4455;\n",
              "      --fill-color: #D2E3FC;\n",
              "      --hover-bg-color: #434B5C;\n",
              "      --hover-fill-color: #FFFFFF;\n",
              "      --disabled-bg-color: #3B4455;\n",
              "      --disabled-fill-color: #666;\n",
              "  }\n",
              "\n",
              "  .colab-df-quickchart {\n",
              "    background-color: var(--bg-color);\n",
              "    border: none;\n",
              "    border-radius: 50%;\n",
              "    cursor: pointer;\n",
              "    display: none;\n",
              "    fill: var(--fill-color);\n",
              "    height: 32px;\n",
              "    padding: 0;\n",
              "    width: 32px;\n",
              "  }\n",
              "\n",
              "  .colab-df-quickchart:hover {\n",
              "    background-color: var(--hover-bg-color);\n",
              "    box-shadow: 0 1px 2px rgba(60, 64, 67, 0.3), 0 1px 3px 1px rgba(60, 64, 67, 0.15);\n",
              "    fill: var(--button-hover-fill-color);\n",
              "  }\n",
              "\n",
              "  .colab-df-quickchart-complete:disabled,\n",
              "  .colab-df-quickchart-complete:disabled:hover {\n",
              "    background-color: var(--disabled-bg-color);\n",
              "    fill: var(--disabled-fill-color);\n",
              "    box-shadow: none;\n",
              "  }\n",
              "\n",
              "  .colab-df-spinner {\n",
              "    border: 2px solid var(--fill-color);\n",
              "    border-color: transparent;\n",
              "    border-bottom-color: var(--fill-color);\n",
              "    animation:\n",
              "      spin 1s steps(1) infinite;\n",
              "  }\n",
              "\n",
              "  @keyframes spin {\n",
              "    0% {\n",
              "      border-color: transparent;\n",
              "      border-bottom-color: var(--fill-color);\n",
              "      border-left-color: var(--fill-color);\n",
              "    }\n",
              "    20% {\n",
              "      border-color: transparent;\n",
              "      border-left-color: var(--fill-color);\n",
              "      border-top-color: var(--fill-color);\n",
              "    }\n",
              "    30% {\n",
              "      border-color: transparent;\n",
              "      border-left-color: var(--fill-color);\n",
              "      border-top-color: var(--fill-color);\n",
              "      border-right-color: var(--fill-color);\n",
              "    }\n",
              "    40% {\n",
              "      border-color: transparent;\n",
              "      border-right-color: var(--fill-color);\n",
              "      border-top-color: var(--fill-color);\n",
              "    }\n",
              "    60% {\n",
              "      border-color: transparent;\n",
              "      border-right-color: var(--fill-color);\n",
              "    }\n",
              "    80% {\n",
              "      border-color: transparent;\n",
              "      border-right-color: var(--fill-color);\n",
              "      border-bottom-color: var(--fill-color);\n",
              "    }\n",
              "    90% {\n",
              "      border-color: transparent;\n",
              "      border-bottom-color: var(--fill-color);\n",
              "    }\n",
              "  }\n",
              "</style>\n",
              "\n",
              "  <script>\n",
              "    async function quickchart(key) {\n",
              "      const quickchartButtonEl =\n",
              "        document.querySelector('#' + key + ' button');\n",
              "      quickchartButtonEl.disabled = true;  // To prevent multiple clicks.\n",
              "      quickchartButtonEl.classList.add('colab-df-spinner');\n",
              "      try {\n",
              "        const charts = await google.colab.kernel.invokeFunction(\n",
              "            'suggestCharts', [key], {});\n",
              "      } catch (error) {\n",
              "        console.error('Error during call to suggestCharts:', error);\n",
              "      }\n",
              "      quickchartButtonEl.classList.remove('colab-df-spinner');\n",
              "      quickchartButtonEl.classList.add('colab-df-quickchart-complete');\n",
              "    }\n",
              "    (() => {\n",
              "      let quickchartButtonEl =\n",
              "        document.querySelector('#df-49fe759d-af87-4047-a11f-6ccffc1affa4 button');\n",
              "      quickchartButtonEl.style.display =\n",
              "        google.colab.kernel.accessAllowed ? 'block' : 'none';\n",
              "    })();\n",
              "  </script>\n",
              "</div>\n",
              "\n",
              "    </div>\n",
              "  </div>\n"
            ],
            "text/plain": [
              "   Unnamed: 0 country                                        description  \\\n",
              "0           0      US  This tremendous 100% varietal wine hails from ...   \n",
              "1           1   Spain  Ripe aromas of fig, blackberry and cassis are ...   \n",
              "2           2      US  Mac Watson honors the memory of a wine once ma...   \n",
              "3           3      US  This spent 20 months in 30% new French oak, an...   \n",
              "4           4  France  This is the top wine from La Bégude, named aft...   \n",
              "\n",
              "                            designation  points  price        province  \\\n",
              "0                     Martha's Vineyard      96  235.0      California   \n",
              "1  Carodorum Selección Especial Reserva      96  110.0  Northern Spain   \n",
              "2         Special Selected Late Harvest      96   90.0      California   \n",
              "3                               Reserve      96   65.0          Oregon   \n",
              "4                            La Brûlade      95   66.0        Provence   \n",
              "\n",
              "            region_1           region_2             variety  \\\n",
              "0        Napa Valley               Napa  Cabernet Sauvignon   \n",
              "1               Toro                NaN       Tinta de Toro   \n",
              "2     Knights Valley             Sonoma     Sauvignon Blanc   \n",
              "3  Willamette Valley  Willamette Valley          Pinot Noir   \n",
              "4             Bandol                NaN  Provence red blend   \n",
              "\n",
              "                    winery  \n",
              "0                    Heitz  \n",
              "1  Bodega Carmen Rodríguez  \n",
              "2                 Macauley  \n",
              "3                    Ponzi  \n",
              "4     Domaine de la Bégude  "
            ]
          },
          "execution_count": 2,
          "metadata": {},
          "output_type": "execute_result"
        }
      ],
      "source": [
        "wine_df.head()"
      ]
    },
    {
      "cell_type": "code",
      "execution_count": 3,
      "id": "t2_-o24JJB4A",
      "metadata": {
        "colab": {
          "base_uri": "https://localhost:8080/",
          "height": 300
        },
        "id": "t2_-o24JJB4A",
        "outputId": "56bba071-1dc9-4f96-ebc4-6102b7061fd3"
      },
      "outputs": [
        {
          "data": {
            "application/vnd.google.colaboratory.intrinsic+json": {
              "summary": "{\n  \"name\": \"wine_df\",\n  \"rows\": 8,\n  \"fields\": [\n    {\n      \"column\": \"Unnamed: 0\",\n      \"properties\": {\n        \"dtype\": \"number\",\n        \"std\": 54395.683256325196,\n        \"min\": 0.0,\n        \"max\": 150930.0,\n        \"num_unique_values\": 7,\n        \"samples\": [\n          150930.0,\n          75464.5,\n          113196.75\n        ],\n        \"semantic_type\": \"\",\n        \"description\": \"\"\n      }\n    },\n    {\n      \"column\": \"points\",\n      \"properties\": {\n        \"dtype\": \"number\",\n        \"std\": 53334.79472789043,\n        \"min\": 3.2223917589832167,\n        \"max\": 150930.0,\n        \"num_unique_values\": 8,\n        \"samples\": [\n          87.8884184721394,\n          88.0,\n          150930.0\n        ],\n        \"semantic_type\": \"\",\n        \"description\": \"\"\n      }\n    },\n    {\n      \"column\": \"price\",\n      \"properties\": {\n        \"dtype\": \"number\",\n        \"std\": 48402.52659691479,\n        \"min\": 4.0,\n        \"max\": 137235.0,\n        \"num_unique_values\": 8,\n        \"samples\": [\n          33.13148249353299,\n          24.0,\n          137235.0\n        ],\n        \"semantic_type\": \"\",\n        \"description\": \"\"\n      }\n    }\n  ]\n}",
              "type": "dataframe"
            },
            "text/html": [
              "\n",
              "  <div id=\"df-a1060a92-1858-468e-b3a5-0f0601228100\" class=\"colab-df-container\">\n",
              "    <div>\n",
              "<style scoped>\n",
              "    .dataframe tbody tr th:only-of-type {\n",
              "        vertical-align: middle;\n",
              "    }\n",
              "\n",
              "    .dataframe tbody tr th {\n",
              "        vertical-align: top;\n",
              "    }\n",
              "\n",
              "    .dataframe thead th {\n",
              "        text-align: right;\n",
              "    }\n",
              "</style>\n",
              "<table border=\"1\" class=\"dataframe\">\n",
              "  <thead>\n",
              "    <tr style=\"text-align: right;\">\n",
              "      <th></th>\n",
              "      <th>Unnamed: 0</th>\n",
              "      <th>points</th>\n",
              "      <th>price</th>\n",
              "    </tr>\n",
              "  </thead>\n",
              "  <tbody>\n",
              "    <tr>\n",
              "      <th>count</th>\n",
              "      <td>150930.000000</td>\n",
              "      <td>150930.000000</td>\n",
              "      <td>137235.000000</td>\n",
              "    </tr>\n",
              "    <tr>\n",
              "      <th>mean</th>\n",
              "      <td>75464.500000</td>\n",
              "      <td>87.888418</td>\n",
              "      <td>33.131482</td>\n",
              "    </tr>\n",
              "    <tr>\n",
              "      <th>std</th>\n",
              "      <td>43569.882402</td>\n",
              "      <td>3.222392</td>\n",
              "      <td>36.322536</td>\n",
              "    </tr>\n",
              "    <tr>\n",
              "      <th>min</th>\n",
              "      <td>0.000000</td>\n",
              "      <td>80.000000</td>\n",
              "      <td>4.000000</td>\n",
              "    </tr>\n",
              "    <tr>\n",
              "      <th>25%</th>\n",
              "      <td>37732.250000</td>\n",
              "      <td>86.000000</td>\n",
              "      <td>16.000000</td>\n",
              "    </tr>\n",
              "    <tr>\n",
              "      <th>50%</th>\n",
              "      <td>75464.500000</td>\n",
              "      <td>88.000000</td>\n",
              "      <td>24.000000</td>\n",
              "    </tr>\n",
              "    <tr>\n",
              "      <th>75%</th>\n",
              "      <td>113196.750000</td>\n",
              "      <td>90.000000</td>\n",
              "      <td>40.000000</td>\n",
              "    </tr>\n",
              "    <tr>\n",
              "      <th>max</th>\n",
              "      <td>150929.000000</td>\n",
              "      <td>100.000000</td>\n",
              "      <td>2300.000000</td>\n",
              "    </tr>\n",
              "  </tbody>\n",
              "</table>\n",
              "</div>\n",
              "    <div class=\"colab-df-buttons\">\n",
              "\n",
              "  <div class=\"colab-df-container\">\n",
              "    <button class=\"colab-df-convert\" onclick=\"convertToInteractive('df-a1060a92-1858-468e-b3a5-0f0601228100')\"\n",
              "            title=\"Convert this dataframe to an interactive table.\"\n",
              "            style=\"display:none;\">\n",
              "\n",
              "  <svg xmlns=\"http://www.w3.org/2000/svg\" height=\"24px\" viewBox=\"0 -960 960 960\">\n",
              "    <path d=\"M120-120v-720h720v720H120Zm60-500h600v-160H180v160Zm220 220h160v-160H400v160Zm0 220h160v-160H400v160ZM180-400h160v-160H180v160Zm440 0h160v-160H620v160ZM180-180h160v-160H180v160Zm440 0h160v-160H620v160Z\"/>\n",
              "  </svg>\n",
              "    </button>\n",
              "\n",
              "  <style>\n",
              "    .colab-df-container {\n",
              "      display:flex;\n",
              "      gap: 12px;\n",
              "    }\n",
              "\n",
              "    .colab-df-convert {\n",
              "      background-color: #E8F0FE;\n",
              "      border: none;\n",
              "      border-radius: 50%;\n",
              "      cursor: pointer;\n",
              "      display: none;\n",
              "      fill: #1967D2;\n",
              "      height: 32px;\n",
              "      padding: 0 0 0 0;\n",
              "      width: 32px;\n",
              "    }\n",
              "\n",
              "    .colab-df-convert:hover {\n",
              "      background-color: #E2EBFA;\n",
              "      box-shadow: 0px 1px 2px rgba(60, 64, 67, 0.3), 0px 1px 3px 1px rgba(60, 64, 67, 0.15);\n",
              "      fill: #174EA6;\n",
              "    }\n",
              "\n",
              "    .colab-df-buttons div {\n",
              "      margin-bottom: 4px;\n",
              "    }\n",
              "\n",
              "    [theme=dark] .colab-df-convert {\n",
              "      background-color: #3B4455;\n",
              "      fill: #D2E3FC;\n",
              "    }\n",
              "\n",
              "    [theme=dark] .colab-df-convert:hover {\n",
              "      background-color: #434B5C;\n",
              "      box-shadow: 0px 1px 3px 1px rgba(0, 0, 0, 0.15);\n",
              "      filter: drop-shadow(0px 1px 2px rgba(0, 0, 0, 0.3));\n",
              "      fill: #FFFFFF;\n",
              "    }\n",
              "  </style>\n",
              "\n",
              "    <script>\n",
              "      const buttonEl =\n",
              "        document.querySelector('#df-a1060a92-1858-468e-b3a5-0f0601228100 button.colab-df-convert');\n",
              "      buttonEl.style.display =\n",
              "        google.colab.kernel.accessAllowed ? 'block' : 'none';\n",
              "\n",
              "      async function convertToInteractive(key) {\n",
              "        const element = document.querySelector('#df-a1060a92-1858-468e-b3a5-0f0601228100');\n",
              "        const dataTable =\n",
              "          await google.colab.kernel.invokeFunction('convertToInteractive',\n",
              "                                                    [key], {});\n",
              "        if (!dataTable) return;\n",
              "\n",
              "        const docLinkHtml = 'Like what you see? Visit the ' +\n",
              "          '<a target=\"_blank\" href=https://colab.research.google.com/notebooks/data_table.ipynb>data table notebook</a>'\n",
              "          + ' to learn more about interactive tables.';\n",
              "        element.innerHTML = '';\n",
              "        dataTable['output_type'] = 'display_data';\n",
              "        await google.colab.output.renderOutput(dataTable, element);\n",
              "        const docLink = document.createElement('div');\n",
              "        docLink.innerHTML = docLinkHtml;\n",
              "        element.appendChild(docLink);\n",
              "      }\n",
              "    </script>\n",
              "  </div>\n",
              "\n",
              "\n",
              "<div id=\"df-c9fa8fae-f9fa-4a1b-9b03-e61b0bcd0b1c\">\n",
              "  <button class=\"colab-df-quickchart\" onclick=\"quickchart('df-c9fa8fae-f9fa-4a1b-9b03-e61b0bcd0b1c')\"\n",
              "            title=\"Suggest charts\"\n",
              "            style=\"display:none;\">\n",
              "\n",
              "<svg xmlns=\"http://www.w3.org/2000/svg\" height=\"24px\"viewBox=\"0 0 24 24\"\n",
              "     width=\"24px\">\n",
              "    <g>\n",
              "        <path d=\"M19 3H5c-1.1 0-2 .9-2 2v14c0 1.1.9 2 2 2h14c1.1 0 2-.9 2-2V5c0-1.1-.9-2-2-2zM9 17H7v-7h2v7zm4 0h-2V7h2v10zm4 0h-2v-4h2v4z\"/>\n",
              "    </g>\n",
              "</svg>\n",
              "  </button>\n",
              "\n",
              "<style>\n",
              "  .colab-df-quickchart {\n",
              "      --bg-color: #E8F0FE;\n",
              "      --fill-color: #1967D2;\n",
              "      --hover-bg-color: #E2EBFA;\n",
              "      --hover-fill-color: #174EA6;\n",
              "      --disabled-fill-color: #AAA;\n",
              "      --disabled-bg-color: #DDD;\n",
              "  }\n",
              "\n",
              "  [theme=dark] .colab-df-quickchart {\n",
              "      --bg-color: #3B4455;\n",
              "      --fill-color: #D2E3FC;\n",
              "      --hover-bg-color: #434B5C;\n",
              "      --hover-fill-color: #FFFFFF;\n",
              "      --disabled-bg-color: #3B4455;\n",
              "      --disabled-fill-color: #666;\n",
              "  }\n",
              "\n",
              "  .colab-df-quickchart {\n",
              "    background-color: var(--bg-color);\n",
              "    border: none;\n",
              "    border-radius: 50%;\n",
              "    cursor: pointer;\n",
              "    display: none;\n",
              "    fill: var(--fill-color);\n",
              "    height: 32px;\n",
              "    padding: 0;\n",
              "    width: 32px;\n",
              "  }\n",
              "\n",
              "  .colab-df-quickchart:hover {\n",
              "    background-color: var(--hover-bg-color);\n",
              "    box-shadow: 0 1px 2px rgba(60, 64, 67, 0.3), 0 1px 3px 1px rgba(60, 64, 67, 0.15);\n",
              "    fill: var(--button-hover-fill-color);\n",
              "  }\n",
              "\n",
              "  .colab-df-quickchart-complete:disabled,\n",
              "  .colab-df-quickchart-complete:disabled:hover {\n",
              "    background-color: var(--disabled-bg-color);\n",
              "    fill: var(--disabled-fill-color);\n",
              "    box-shadow: none;\n",
              "  }\n",
              "\n",
              "  .colab-df-spinner {\n",
              "    border: 2px solid var(--fill-color);\n",
              "    border-color: transparent;\n",
              "    border-bottom-color: var(--fill-color);\n",
              "    animation:\n",
              "      spin 1s steps(1) infinite;\n",
              "  }\n",
              "\n",
              "  @keyframes spin {\n",
              "    0% {\n",
              "      border-color: transparent;\n",
              "      border-bottom-color: var(--fill-color);\n",
              "      border-left-color: var(--fill-color);\n",
              "    }\n",
              "    20% {\n",
              "      border-color: transparent;\n",
              "      border-left-color: var(--fill-color);\n",
              "      border-top-color: var(--fill-color);\n",
              "    }\n",
              "    30% {\n",
              "      border-color: transparent;\n",
              "      border-left-color: var(--fill-color);\n",
              "      border-top-color: var(--fill-color);\n",
              "      border-right-color: var(--fill-color);\n",
              "    }\n",
              "    40% {\n",
              "      border-color: transparent;\n",
              "      border-right-color: var(--fill-color);\n",
              "      border-top-color: var(--fill-color);\n",
              "    }\n",
              "    60% {\n",
              "      border-color: transparent;\n",
              "      border-right-color: var(--fill-color);\n",
              "    }\n",
              "    80% {\n",
              "      border-color: transparent;\n",
              "      border-right-color: var(--fill-color);\n",
              "      border-bottom-color: var(--fill-color);\n",
              "    }\n",
              "    90% {\n",
              "      border-color: transparent;\n",
              "      border-bottom-color: var(--fill-color);\n",
              "    }\n",
              "  }\n",
              "</style>\n",
              "\n",
              "  <script>\n",
              "    async function quickchart(key) {\n",
              "      const quickchartButtonEl =\n",
              "        document.querySelector('#' + key + ' button');\n",
              "      quickchartButtonEl.disabled = true;  // To prevent multiple clicks.\n",
              "      quickchartButtonEl.classList.add('colab-df-spinner');\n",
              "      try {\n",
              "        const charts = await google.colab.kernel.invokeFunction(\n",
              "            'suggestCharts', [key], {});\n",
              "      } catch (error) {\n",
              "        console.error('Error during call to suggestCharts:', error);\n",
              "      }\n",
              "      quickchartButtonEl.classList.remove('colab-df-spinner');\n",
              "      quickchartButtonEl.classList.add('colab-df-quickchart-complete');\n",
              "    }\n",
              "    (() => {\n",
              "      let quickchartButtonEl =\n",
              "        document.querySelector('#df-c9fa8fae-f9fa-4a1b-9b03-e61b0bcd0b1c button');\n",
              "      quickchartButtonEl.style.display =\n",
              "        google.colab.kernel.accessAllowed ? 'block' : 'none';\n",
              "    })();\n",
              "  </script>\n",
              "</div>\n",
              "\n",
              "    </div>\n",
              "  </div>\n"
            ],
            "text/plain": [
              "          Unnamed: 0         points          price\n",
              "count  150930.000000  150930.000000  137235.000000\n",
              "mean    75464.500000      87.888418      33.131482\n",
              "std     43569.882402       3.222392      36.322536\n",
              "min         0.000000      80.000000       4.000000\n",
              "25%     37732.250000      86.000000      16.000000\n",
              "50%     75464.500000      88.000000      24.000000\n",
              "75%    113196.750000      90.000000      40.000000\n",
              "max    150929.000000     100.000000    2300.000000"
            ]
          },
          "execution_count": 3,
          "metadata": {},
          "output_type": "execute_result"
        }
      ],
      "source": [
        "wine_df.describe()"
      ]
    },
    {
      "cell_type": "code",
      "execution_count": 4,
      "id": "T6bKsEXrHNph",
      "metadata": {
        "colab": {
          "base_uri": "https://localhost:8080/",
          "height": 206
        },
        "id": "T6bKsEXrHNph",
        "outputId": "4307a0d3-f056-46c2-e7ce-cf3bd9ad1868"
      },
      "outputs": [
        {
          "data": {
            "application/vnd.google.colaboratory.intrinsic+json": {
              "summary": "{\n  \"name\": \"israeli_wines\",\n  \"rows\": 71,\n  \"fields\": [\n    {\n      \"column\": \"country\",\n      \"properties\": {\n        \"dtype\": \"category\",\n        \"num_unique_values\": 1,\n        \"samples\": [\n          \"Israel\"\n        ],\n        \"semantic_type\": \"\",\n        \"description\": \"\"\n      }\n    },\n    {\n      \"column\": \"description\",\n      \"properties\": {\n        \"dtype\": \"string\",\n        \"num_unique_values\": 71,\n        \"samples\": [\n          \"Brambly blackberry and cassis fruit dominates the overall character of this wine, with additional hints of cedary spice and black tea leaves unfolding in the background. A touch of cocoa flavor dusts the medium-length finish, while soft tannins and medium acidity make this an easy drinker now.\"\n        ],\n        \"semantic_type\": \"\",\n        \"description\": \"\"\n      }\n    },\n    {\n      \"column\": \"designation\",\n      \"properties\": {\n        \"dtype\": \"category\",\n        \"num_unique_values\": 35,\n        \"samples\": [\n          \"Appellation Kosher\"\n        ],\n        \"semantic_type\": \"\",\n        \"description\": \"\"\n      }\n    },\n    {\n      \"column\": \"points\",\n      \"properties\": {\n        \"dtype\": \"number\",\n        \"std\": 2,\n        \"min\": 80,\n        \"max\": 91,\n        \"num_unique_values\": 9,\n        \"samples\": [\n          84\n        ],\n        \"semantic_type\": \"\",\n        \"description\": \"\"\n      }\n    },\n    {\n      \"column\": \"price\",\n      \"properties\": {\n        \"dtype\": \"number\",\n        \"std\": 16.61526806485929,\n        \"min\": 12.0,\n        \"max\": 75.0,\n        \"num_unique_values\": 31,\n        \"samples\": [\n          14.0\n        ],\n        \"semantic_type\": \"\",\n        \"description\": \"\"\n      }\n    },\n    {\n      \"column\": \"region_1\",\n      \"properties\": {\n        \"dtype\": \"number\",\n        \"std\": null,\n        \"min\": null,\n        \"max\": null,\n        \"num_unique_values\": 0,\n        \"samples\": [],\n        \"semantic_type\": \"\",\n        \"description\": \"\"\n      }\n    },\n    {\n      \"column\": \"region_2\",\n      \"properties\": {\n        \"dtype\": \"number\",\n        \"std\": null,\n        \"min\": null,\n        \"max\": null,\n        \"num_unique_values\": 0,\n        \"samples\": [],\n        \"semantic_type\": \"\",\n        \"description\": \"\"\n      }\n    },\n    {\n      \"column\": \"variety\",\n      \"properties\": {\n        \"dtype\": \"category\",\n        \"num_unique_values\": 1,\n        \"samples\": [],\n        \"semantic_type\": \"\",\n        \"description\": \"\"\n      }\n    },\n    {\n      \"column\": \"winery\",\n      \"properties\": {\n        \"dtype\": \"category\",\n        \"num_unique_values\": 14,\n        \"samples\": [],\n        \"semantic_type\": \"\",\n        \"description\": \"\"\n      }\n    }\n  ]\n}",
              "type": "dataframe",
              "variable_name": "israeli_wines"
            },
            "text/html": [
              "\n",
              "  <div id=\"df-afda5e0e-6f41-42ed-abeb-a7d462b4bcf7\" class=\"colab-df-container\">\n",
              "    <div>\n",
              "<style scoped>\n",
              "    .dataframe tbody tr th:only-of-type {\n",
              "        vertical-align: middle;\n",
              "    }\n",
              "\n",
              "    .dataframe tbody tr th {\n",
              "        vertical-align: top;\n",
              "    }\n",
              "\n",
              "    .dataframe thead th {\n",
              "        text-align: right;\n",
              "    }\n",
              "</style>\n",
              "<table border=\"1\" class=\"dataframe\">\n",
              "  <thead>\n",
              "    <tr style=\"text-align: right;\">\n",
              "      <th></th>\n",
              "      <th>country</th>\n",
              "      <th>description</th>\n",
              "      <th>designation</th>\n",
              "      <th>points</th>\n",
              "      <th>price</th>\n",
              "      <th>region_1</th>\n",
              "      <th>region_2</th>\n",
              "      <th>variety</th>\n",
              "      <th>winery</th>\n",
              "    </tr>\n",
              "  </thead>\n",
              "  <tbody>\n",
              "    <tr>\n",
              "      <th>81</th>\n",
              "      <td>Israel</td>\n",
              "      <td>Dark red violet in color, this wine has aromas...</td>\n",
              "      <td>Reserve</td>\n",
              "      <td>91</td>\n",
              "      <td>25.0</td>\n",
              "      <td>NaN</td>\n",
              "      <td>NaN</td>\n",
              "      <td>Cabernet Sauvignon</td>\n",
              "      <td>Binyamina</td>\n",
              "    </tr>\n",
              "    <tr>\n",
              "      <th>355</th>\n",
              "      <td>Israel</td>\n",
              "      <td>Restrained aromas of black plum barely set the...</td>\n",
              "      <td>NaN</td>\n",
              "      <td>91</td>\n",
              "      <td>40.0</td>\n",
              "      <td>NaN</td>\n",
              "      <td>NaN</td>\n",
              "      <td>Cabernet Sauvignon</td>\n",
              "      <td>Bazelet HaGolan</td>\n",
              "    </tr>\n",
              "    <tr>\n",
              "      <th>966</th>\n",
              "      <td>Israel</td>\n",
              "      <td>This wine is dark red-violet color to the eye,...</td>\n",
              "      <td>Special Reserve</td>\n",
              "      <td>90</td>\n",
              "      <td>20.0</td>\n",
              "      <td>NaN</td>\n",
              "      <td>NaN</td>\n",
              "      <td>Cabernet Sauvignon</td>\n",
              "      <td>Segal's</td>\n",
              "    </tr>\n",
              "    <tr>\n",
              "      <th>970</th>\n",
              "      <td>Israel</td>\n",
              "      <td>Dark garnet in the glass, this wine has a nose...</td>\n",
              "      <td>Mt. Tabor</td>\n",
              "      <td>90</td>\n",
              "      <td>15.0</td>\n",
              "      <td>NaN</td>\n",
              "      <td>NaN</td>\n",
              "      <td>Cabernet Sauvignon</td>\n",
              "      <td>Tabor</td>\n",
              "    </tr>\n",
              "    <tr>\n",
              "      <th>977</th>\n",
              "      <td>Israel</td>\n",
              "      <td>Dark black cherry in color, this wine offers a...</td>\n",
              "      <td>NaN</td>\n",
              "      <td>90</td>\n",
              "      <td>55.0</td>\n",
              "      <td>NaN</td>\n",
              "      <td>NaN</td>\n",
              "      <td>Cabernet Sauvignon</td>\n",
              "      <td>Yatir</td>\n",
              "    </tr>\n",
              "  </tbody>\n",
              "</table>\n",
              "</div>\n",
              "    <div class=\"colab-df-buttons\">\n",
              "\n",
              "  <div class=\"colab-df-container\">\n",
              "    <button class=\"colab-df-convert\" onclick=\"convertToInteractive('df-afda5e0e-6f41-42ed-abeb-a7d462b4bcf7')\"\n",
              "            title=\"Convert this dataframe to an interactive table.\"\n",
              "            style=\"display:none;\">\n",
              "\n",
              "  <svg xmlns=\"http://www.w3.org/2000/svg\" height=\"24px\" viewBox=\"0 -960 960 960\">\n",
              "    <path d=\"M120-120v-720h720v720H120Zm60-500h600v-160H180v160Zm220 220h160v-160H400v160Zm0 220h160v-160H400v160ZM180-400h160v-160H180v160Zm440 0h160v-160H620v160ZM180-180h160v-160H180v160Zm440 0h160v-160H620v160Z\"/>\n",
              "  </svg>\n",
              "    </button>\n",
              "\n",
              "  <style>\n",
              "    .colab-df-container {\n",
              "      display:flex;\n",
              "      gap: 12px;\n",
              "    }\n",
              "\n",
              "    .colab-df-convert {\n",
              "      background-color: #E8F0FE;\n",
              "      border: none;\n",
              "      border-radius: 50%;\n",
              "      cursor: pointer;\n",
              "      display: none;\n",
              "      fill: #1967D2;\n",
              "      height: 32px;\n",
              "      padding: 0 0 0 0;\n",
              "      width: 32px;\n",
              "    }\n",
              "\n",
              "    .colab-df-convert:hover {\n",
              "      background-color: #E2EBFA;\n",
              "      box-shadow: 0px 1px 2px rgba(60, 64, 67, 0.3), 0px 1px 3px 1px rgba(60, 64, 67, 0.15);\n",
              "      fill: #174EA6;\n",
              "    }\n",
              "\n",
              "    .colab-df-buttons div {\n",
              "      margin-bottom: 4px;\n",
              "    }\n",
              "\n",
              "    [theme=dark] .colab-df-convert {\n",
              "      background-color: #3B4455;\n",
              "      fill: #D2E3FC;\n",
              "    }\n",
              "\n",
              "    [theme=dark] .colab-df-convert:hover {\n",
              "      background-color: #434B5C;\n",
              "      box-shadow: 0px 1px 3px 1px rgba(0, 0, 0, 0.15);\n",
              "      filter: drop-shadow(0px 1px 2px rgba(0, 0, 0, 0.3));\n",
              "      fill: #FFFFFF;\n",
              "    }\n",
              "  </style>\n",
              "\n",
              "    <script>\n",
              "      const buttonEl =\n",
              "        document.querySelector('#df-afda5e0e-6f41-42ed-abeb-a7d462b4bcf7 button.colab-df-convert');\n",
              "      buttonEl.style.display =\n",
              "        google.colab.kernel.accessAllowed ? 'block' : 'none';\n",
              "\n",
              "      async function convertToInteractive(key) {\n",
              "        const element = document.querySelector('#df-afda5e0e-6f41-42ed-abeb-a7d462b4bcf7');\n",
              "        const dataTable =\n",
              "          await google.colab.kernel.invokeFunction('convertToInteractive',\n",
              "                                                    [key], {});\n",
              "        if (!dataTable) return;\n",
              "\n",
              "        const docLinkHtml = 'Like what you see? Visit the ' +\n",
              "          '<a target=\"_blank\" href=https://colab.research.google.com/notebooks/data_table.ipynb>data table notebook</a>'\n",
              "          + ' to learn more about interactive tables.';\n",
              "        element.innerHTML = '';\n",
              "        dataTable['output_type'] = 'display_data';\n",
              "        await google.colab.output.renderOutput(dataTable, element);\n",
              "        const docLink = document.createElement('div');\n",
              "        docLink.innerHTML = docLinkHtml;\n",
              "        element.appendChild(docLink);\n",
              "      }\n",
              "    </script>\n",
              "  </div>\n",
              "\n",
              "\n",
              "<div id=\"df-fee35c77-04c0-40e7-a36a-4f02eb0d0722\">\n",
              "  <button class=\"colab-df-quickchart\" onclick=\"quickchart('df-fee35c77-04c0-40e7-a36a-4f02eb0d0722')\"\n",
              "            title=\"Suggest charts\"\n",
              "            style=\"display:none;\">\n",
              "\n",
              "<svg xmlns=\"http://www.w3.org/2000/svg\" height=\"24px\"viewBox=\"0 0 24 24\"\n",
              "     width=\"24px\">\n",
              "    <g>\n",
              "        <path d=\"M19 3H5c-1.1 0-2 .9-2 2v14c0 1.1.9 2 2 2h14c1.1 0 2-.9 2-2V5c0-1.1-.9-2-2-2zM9 17H7v-7h2v7zm4 0h-2V7h2v10zm4 0h-2v-4h2v4z\"/>\n",
              "    </g>\n",
              "</svg>\n",
              "  </button>\n",
              "\n",
              "<style>\n",
              "  .colab-df-quickchart {\n",
              "      --bg-color: #E8F0FE;\n",
              "      --fill-color: #1967D2;\n",
              "      --hover-bg-color: #E2EBFA;\n",
              "      --hover-fill-color: #174EA6;\n",
              "      --disabled-fill-color: #AAA;\n",
              "      --disabled-bg-color: #DDD;\n",
              "  }\n",
              "\n",
              "  [theme=dark] .colab-df-quickchart {\n",
              "      --bg-color: #3B4455;\n",
              "      --fill-color: #D2E3FC;\n",
              "      --hover-bg-color: #434B5C;\n",
              "      --hover-fill-color: #FFFFFF;\n",
              "      --disabled-bg-color: #3B4455;\n",
              "      --disabled-fill-color: #666;\n",
              "  }\n",
              "\n",
              "  .colab-df-quickchart {\n",
              "    background-color: var(--bg-color);\n",
              "    border: none;\n",
              "    border-radius: 50%;\n",
              "    cursor: pointer;\n",
              "    display: none;\n",
              "    fill: var(--fill-color);\n",
              "    height: 32px;\n",
              "    padding: 0;\n",
              "    width: 32px;\n",
              "  }\n",
              "\n",
              "  .colab-df-quickchart:hover {\n",
              "    background-color: var(--hover-bg-color);\n",
              "    box-shadow: 0 1px 2px rgba(60, 64, 67, 0.3), 0 1px 3px 1px rgba(60, 64, 67, 0.15);\n",
              "    fill: var(--button-hover-fill-color);\n",
              "  }\n",
              "\n",
              "  .colab-df-quickchart-complete:disabled,\n",
              "  .colab-df-quickchart-complete:disabled:hover {\n",
              "    background-color: var(--disabled-bg-color);\n",
              "    fill: var(--disabled-fill-color);\n",
              "    box-shadow: none;\n",
              "  }\n",
              "\n",
              "  .colab-df-spinner {\n",
              "    border: 2px solid var(--fill-color);\n",
              "    border-color: transparent;\n",
              "    border-bottom-color: var(--fill-color);\n",
              "    animation:\n",
              "      spin 1s steps(1) infinite;\n",
              "  }\n",
              "\n",
              "  @keyframes spin {\n",
              "    0% {\n",
              "      border-color: transparent;\n",
              "      border-bottom-color: var(--fill-color);\n",
              "      border-left-color: var(--fill-color);\n",
              "    }\n",
              "    20% {\n",
              "      border-color: transparent;\n",
              "      border-left-color: var(--fill-color);\n",
              "      border-top-color: var(--fill-color);\n",
              "    }\n",
              "    30% {\n",
              "      border-color: transparent;\n",
              "      border-left-color: var(--fill-color);\n",
              "      border-top-color: var(--fill-color);\n",
              "      border-right-color: var(--fill-color);\n",
              "    }\n",
              "    40% {\n",
              "      border-color: transparent;\n",
              "      border-right-color: var(--fill-color);\n",
              "      border-top-color: var(--fill-color);\n",
              "    }\n",
              "    60% {\n",
              "      border-color: transparent;\n",
              "      border-right-color: var(--fill-color);\n",
              "    }\n",
              "    80% {\n",
              "      border-color: transparent;\n",
              "      border-right-color: var(--fill-color);\n",
              "      border-bottom-color: var(--fill-color);\n",
              "    }\n",
              "    90% {\n",
              "      border-color: transparent;\n",
              "      border-bottom-color: var(--fill-color);\n",
              "    }\n",
              "  }\n",
              "</style>\n",
              "\n",
              "  <script>\n",
              "    async function quickchart(key) {\n",
              "      const quickchartButtonEl =\n",
              "        document.querySelector('#' + key + ' button');\n",
              "      quickchartButtonEl.disabled = true;  // To prevent multiple clicks.\n",
              "      quickchartButtonEl.classList.add('colab-df-spinner');\n",
              "      try {\n",
              "        const charts = await google.colab.kernel.invokeFunction(\n",
              "            'suggestCharts', [key], {});\n",
              "      } catch (error) {\n",
              "        console.error('Error during call to suggestCharts:', error);\n",
              "      }\n",
              "      quickchartButtonEl.classList.remove('colab-df-spinner');\n",
              "      quickchartButtonEl.classList.add('colab-df-quickchart-complete');\n",
              "    }\n",
              "    (() => {\n",
              "      let quickchartButtonEl =\n",
              "        document.querySelector('#df-fee35c77-04c0-40e7-a36a-4f02eb0d0722 button');\n",
              "      quickchartButtonEl.style.display =\n",
              "        google.colab.kernel.accessAllowed ? 'block' : 'none';\n",
              "    })();\n",
              "  </script>\n",
              "</div>\n",
              "\n",
              "    </div>\n",
              "  </div>\n"
            ],
            "text/plain": [
              "    country                                        description  \\\n",
              "81   Israel  Dark red violet in color, this wine has aromas...   \n",
              "355  Israel  Restrained aromas of black plum barely set the...   \n",
              "966  Israel  This wine is dark red-violet color to the eye,...   \n",
              "970  Israel  Dark garnet in the glass, this wine has a nose...   \n",
              "977  Israel  Dark black cherry in color, this wine offers a...   \n",
              "\n",
              "         designation  points  price  region_1  region_2             variety  \\\n",
              "81           Reserve      91   25.0       NaN       NaN  Cabernet Sauvignon   \n",
              "355              NaN      91   40.0       NaN       NaN  Cabernet Sauvignon   \n",
              "966  Special Reserve      90   20.0       NaN       NaN  Cabernet Sauvignon   \n",
              "970        Mt. Tabor      90   15.0       NaN       NaN  Cabernet Sauvignon   \n",
              "977              NaN      90   55.0       NaN       NaN  Cabernet Sauvignon   \n",
              "\n",
              "              winery  \n",
              "81         Binyamina  \n",
              "355  Bazelet HaGolan  \n",
              "966          Segal's  \n",
              "970            Tabor  \n",
              "977            Yatir  "
            ]
          },
          "execution_count": 4,
          "metadata": {},
          "output_type": "execute_result"
        }
      ],
      "source": [
        "israeli_wines.head()"
      ]
    },
    {
      "cell_type": "code",
      "execution_count": 5,
      "id": "3ULntd6HJGyo",
      "metadata": {
        "colab": {
          "base_uri": "https://localhost:8080/",
          "height": 300
        },
        "id": "3ULntd6HJGyo",
        "outputId": "d0f58662-07fc-4e3b-cb1f-c5e510b7a11d"
      },
      "outputs": [
        {
          "data": {
            "application/vnd.google.colaboratory.intrinsic+json": {
              "summary": "{\n  \"name\": \"israeli_wines\",\n  \"rows\": 8,\n  \"fields\": [\n    {\n      \"column\": \"points\",\n      \"properties\": {\n        \"dtype\": \"number\",\n        \"std\": 29.986058249622953,\n        \"min\": 2.254974380506449,\n        \"max\": 91.0,\n        \"num_unique_values\": 8,\n        \"samples\": [\n          87.97183098591549,\n          88.0,\n          71.0\n        ],\n        \"semantic_type\": \"\",\n        \"description\": \"\"\n      }\n    },\n    {\n      \"column\": \"price\",\n      \"properties\": {\n        \"dtype\": \"number\",\n        \"std\": 22.801825962406493,\n        \"min\": 12.0,\n        \"max\": 75.0,\n        \"num_unique_values\": 8,\n        \"samples\": [\n          34.54545454545455,\n          34.0,\n          66.0\n        ],\n        \"semantic_type\": \"\",\n        \"description\": \"\"\n      }\n    },\n    {\n      \"column\": \"region_1\",\n      \"properties\": {\n        \"dtype\": \"number\",\n        \"std\": null,\n        \"min\": 0.0,\n        \"max\": 0.0,\n        \"num_unique_values\": 1,\n        \"samples\": [\n          0.0\n        ],\n        \"semantic_type\": \"\",\n        \"description\": \"\"\n      }\n    },\n    {\n      \"column\": \"region_2\",\n      \"properties\": {\n        \"dtype\": \"number\",\n        \"std\": null,\n        \"min\": 0.0,\n        \"max\": 0.0,\n        \"num_unique_values\": 1,\n        \"samples\": [\n          0.0\n        ],\n        \"semantic_type\": \"\",\n        \"description\": \"\"\n      }\n    }\n  ]\n}",
              "type": "dataframe"
            },
            "text/html": [
              "\n",
              "  <div id=\"df-917ac397-88a0-4990-8999-9b64febdf904\" class=\"colab-df-container\">\n",
              "    <div>\n",
              "<style scoped>\n",
              "    .dataframe tbody tr th:only-of-type {\n",
              "        vertical-align: middle;\n",
              "    }\n",
              "\n",
              "    .dataframe tbody tr th {\n",
              "        vertical-align: top;\n",
              "    }\n",
              "\n",
              "    .dataframe thead th {\n",
              "        text-align: right;\n",
              "    }\n",
              "</style>\n",
              "<table border=\"1\" class=\"dataframe\">\n",
              "  <thead>\n",
              "    <tr style=\"text-align: right;\">\n",
              "      <th></th>\n",
              "      <th>points</th>\n",
              "      <th>price</th>\n",
              "      <th>region_1</th>\n",
              "      <th>region_2</th>\n",
              "    </tr>\n",
              "  </thead>\n",
              "  <tbody>\n",
              "    <tr>\n",
              "      <th>count</th>\n",
              "      <td>71.000000</td>\n",
              "      <td>66.000000</td>\n",
              "      <td>0.0</td>\n",
              "      <td>0.0</td>\n",
              "    </tr>\n",
              "    <tr>\n",
              "      <th>mean</th>\n",
              "      <td>87.971831</td>\n",
              "      <td>34.545455</td>\n",
              "      <td>NaN</td>\n",
              "      <td>NaN</td>\n",
              "    </tr>\n",
              "    <tr>\n",
              "      <th>std</th>\n",
              "      <td>2.254974</td>\n",
              "      <td>16.615268</td>\n",
              "      <td>NaN</td>\n",
              "      <td>NaN</td>\n",
              "    </tr>\n",
              "    <tr>\n",
              "      <th>min</th>\n",
              "      <td>80.000000</td>\n",
              "      <td>12.000000</td>\n",
              "      <td>NaN</td>\n",
              "      <td>NaN</td>\n",
              "    </tr>\n",
              "    <tr>\n",
              "      <th>25%</th>\n",
              "      <td>87.000000</td>\n",
              "      <td>20.250000</td>\n",
              "      <td>NaN</td>\n",
              "      <td>NaN</td>\n",
              "    </tr>\n",
              "    <tr>\n",
              "      <th>50%</th>\n",
              "      <td>88.000000</td>\n",
              "      <td>34.000000</td>\n",
              "      <td>NaN</td>\n",
              "      <td>NaN</td>\n",
              "    </tr>\n",
              "    <tr>\n",
              "      <th>75%</th>\n",
              "      <td>90.000000</td>\n",
              "      <td>41.500000</td>\n",
              "      <td>NaN</td>\n",
              "      <td>NaN</td>\n",
              "    </tr>\n",
              "    <tr>\n",
              "      <th>max</th>\n",
              "      <td>91.000000</td>\n",
              "      <td>75.000000</td>\n",
              "      <td>NaN</td>\n",
              "      <td>NaN</td>\n",
              "    </tr>\n",
              "  </tbody>\n",
              "</table>\n",
              "</div>\n",
              "    <div class=\"colab-df-buttons\">\n",
              "\n",
              "  <div class=\"colab-df-container\">\n",
              "    <button class=\"colab-df-convert\" onclick=\"convertToInteractive('df-917ac397-88a0-4990-8999-9b64febdf904')\"\n",
              "            title=\"Convert this dataframe to an interactive table.\"\n",
              "            style=\"display:none;\">\n",
              "\n",
              "  <svg xmlns=\"http://www.w3.org/2000/svg\" height=\"24px\" viewBox=\"0 -960 960 960\">\n",
              "    <path d=\"M120-120v-720h720v720H120Zm60-500h600v-160H180v160Zm220 220h160v-160H400v160Zm0 220h160v-160H400v160ZM180-400h160v-160H180v160Zm440 0h160v-160H620v160ZM180-180h160v-160H180v160Zm440 0h160v-160H620v160Z\"/>\n",
              "  </svg>\n",
              "    </button>\n",
              "\n",
              "  <style>\n",
              "    .colab-df-container {\n",
              "      display:flex;\n",
              "      gap: 12px;\n",
              "    }\n",
              "\n",
              "    .colab-df-convert {\n",
              "      background-color: #E8F0FE;\n",
              "      border: none;\n",
              "      border-radius: 50%;\n",
              "      cursor: pointer;\n",
              "      display: none;\n",
              "      fill: #1967D2;\n",
              "      height: 32px;\n",
              "      padding: 0 0 0 0;\n",
              "      width: 32px;\n",
              "    }\n",
              "\n",
              "    .colab-df-convert:hover {\n",
              "      background-color: #E2EBFA;\n",
              "      box-shadow: 0px 1px 2px rgba(60, 64, 67, 0.3), 0px 1px 3px 1px rgba(60, 64, 67, 0.15);\n",
              "      fill: #174EA6;\n",
              "    }\n",
              "\n",
              "    .colab-df-buttons div {\n",
              "      margin-bottom: 4px;\n",
              "    }\n",
              "\n",
              "    [theme=dark] .colab-df-convert {\n",
              "      background-color: #3B4455;\n",
              "      fill: #D2E3FC;\n",
              "    }\n",
              "\n",
              "    [theme=dark] .colab-df-convert:hover {\n",
              "      background-color: #434B5C;\n",
              "      box-shadow: 0px 1px 3px 1px rgba(0, 0, 0, 0.15);\n",
              "      filter: drop-shadow(0px 1px 2px rgba(0, 0, 0, 0.3));\n",
              "      fill: #FFFFFF;\n",
              "    }\n",
              "  </style>\n",
              "\n",
              "    <script>\n",
              "      const buttonEl =\n",
              "        document.querySelector('#df-917ac397-88a0-4990-8999-9b64febdf904 button.colab-df-convert');\n",
              "      buttonEl.style.display =\n",
              "        google.colab.kernel.accessAllowed ? 'block' : 'none';\n",
              "\n",
              "      async function convertToInteractive(key) {\n",
              "        const element = document.querySelector('#df-917ac397-88a0-4990-8999-9b64febdf904');\n",
              "        const dataTable =\n",
              "          await google.colab.kernel.invokeFunction('convertToInteractive',\n",
              "                                                    [key], {});\n",
              "        if (!dataTable) return;\n",
              "\n",
              "        const docLinkHtml = 'Like what you see? Visit the ' +\n",
              "          '<a target=\"_blank\" href=https://colab.research.google.com/notebooks/data_table.ipynb>data table notebook</a>'\n",
              "          + ' to learn more about interactive tables.';\n",
              "        element.innerHTML = '';\n",
              "        dataTable['output_type'] = 'display_data';\n",
              "        await google.colab.output.renderOutput(dataTable, element);\n",
              "        const docLink = document.createElement('div');\n",
              "        docLink.innerHTML = docLinkHtml;\n",
              "        element.appendChild(docLink);\n",
              "      }\n",
              "    </script>\n",
              "  </div>\n",
              "\n",
              "\n",
              "<div id=\"df-73424c62-80e7-4834-af3c-18f80636f3eb\">\n",
              "  <button class=\"colab-df-quickchart\" onclick=\"quickchart('df-73424c62-80e7-4834-af3c-18f80636f3eb')\"\n",
              "            title=\"Suggest charts\"\n",
              "            style=\"display:none;\">\n",
              "\n",
              "<svg xmlns=\"http://www.w3.org/2000/svg\" height=\"24px\"viewBox=\"0 0 24 24\"\n",
              "     width=\"24px\">\n",
              "    <g>\n",
              "        <path d=\"M19 3H5c-1.1 0-2 .9-2 2v14c0 1.1.9 2 2 2h14c1.1 0 2-.9 2-2V5c0-1.1-.9-2-2-2zM9 17H7v-7h2v7zm4 0h-2V7h2v10zm4 0h-2v-4h2v4z\"/>\n",
              "    </g>\n",
              "</svg>\n",
              "  </button>\n",
              "\n",
              "<style>\n",
              "  .colab-df-quickchart {\n",
              "      --bg-color: #E8F0FE;\n",
              "      --fill-color: #1967D2;\n",
              "      --hover-bg-color: #E2EBFA;\n",
              "      --hover-fill-color: #174EA6;\n",
              "      --disabled-fill-color: #AAA;\n",
              "      --disabled-bg-color: #DDD;\n",
              "  }\n",
              "\n",
              "  [theme=dark] .colab-df-quickchart {\n",
              "      --bg-color: #3B4455;\n",
              "      --fill-color: #D2E3FC;\n",
              "      --hover-bg-color: #434B5C;\n",
              "      --hover-fill-color: #FFFFFF;\n",
              "      --disabled-bg-color: #3B4455;\n",
              "      --disabled-fill-color: #666;\n",
              "  }\n",
              "\n",
              "  .colab-df-quickchart {\n",
              "    background-color: var(--bg-color);\n",
              "    border: none;\n",
              "    border-radius: 50%;\n",
              "    cursor: pointer;\n",
              "    display: none;\n",
              "    fill: var(--fill-color);\n",
              "    height: 32px;\n",
              "    padding: 0;\n",
              "    width: 32px;\n",
              "  }\n",
              "\n",
              "  .colab-df-quickchart:hover {\n",
              "    background-color: var(--hover-bg-color);\n",
              "    box-shadow: 0 1px 2px rgba(60, 64, 67, 0.3), 0 1px 3px 1px rgba(60, 64, 67, 0.15);\n",
              "    fill: var(--button-hover-fill-color);\n",
              "  }\n",
              "\n",
              "  .colab-df-quickchart-complete:disabled,\n",
              "  .colab-df-quickchart-complete:disabled:hover {\n",
              "    background-color: var(--disabled-bg-color);\n",
              "    fill: var(--disabled-fill-color);\n",
              "    box-shadow: none;\n",
              "  }\n",
              "\n",
              "  .colab-df-spinner {\n",
              "    border: 2px solid var(--fill-color);\n",
              "    border-color: transparent;\n",
              "    border-bottom-color: var(--fill-color);\n",
              "    animation:\n",
              "      spin 1s steps(1) infinite;\n",
              "  }\n",
              "\n",
              "  @keyframes spin {\n",
              "    0% {\n",
              "      border-color: transparent;\n",
              "      border-bottom-color: var(--fill-color);\n",
              "      border-left-color: var(--fill-color);\n",
              "    }\n",
              "    20% {\n",
              "      border-color: transparent;\n",
              "      border-left-color: var(--fill-color);\n",
              "      border-top-color: var(--fill-color);\n",
              "    }\n",
              "    30% {\n",
              "      border-color: transparent;\n",
              "      border-left-color: var(--fill-color);\n",
              "      border-top-color: var(--fill-color);\n",
              "      border-right-color: var(--fill-color);\n",
              "    }\n",
              "    40% {\n",
              "      border-color: transparent;\n",
              "      border-right-color: var(--fill-color);\n",
              "      border-top-color: var(--fill-color);\n",
              "    }\n",
              "    60% {\n",
              "      border-color: transparent;\n",
              "      border-right-color: var(--fill-color);\n",
              "    }\n",
              "    80% {\n",
              "      border-color: transparent;\n",
              "      border-right-color: var(--fill-color);\n",
              "      border-bottom-color: var(--fill-color);\n",
              "    }\n",
              "    90% {\n",
              "      border-color: transparent;\n",
              "      border-bottom-color: var(--fill-color);\n",
              "    }\n",
              "  }\n",
              "</style>\n",
              "\n",
              "  <script>\n",
              "    async function quickchart(key) {\n",
              "      const quickchartButtonEl =\n",
              "        document.querySelector('#' + key + ' button');\n",
              "      quickchartButtonEl.disabled = true;  // To prevent multiple clicks.\n",
              "      quickchartButtonEl.classList.add('colab-df-spinner');\n",
              "      try {\n",
              "        const charts = await google.colab.kernel.invokeFunction(\n",
              "            'suggestCharts', [key], {});\n",
              "      } catch (error) {\n",
              "        console.error('Error during call to suggestCharts:', error);\n",
              "      }\n",
              "      quickchartButtonEl.classList.remove('colab-df-spinner');\n",
              "      quickchartButtonEl.classList.add('colab-df-quickchart-complete');\n",
              "    }\n",
              "    (() => {\n",
              "      let quickchartButtonEl =\n",
              "        document.querySelector('#df-73424c62-80e7-4834-af3c-18f80636f3eb button');\n",
              "      quickchartButtonEl.style.display =\n",
              "        google.colab.kernel.accessAllowed ? 'block' : 'none';\n",
              "    })();\n",
              "  </script>\n",
              "</div>\n",
              "\n",
              "    </div>\n",
              "  </div>\n"
            ],
            "text/plain": [
              "          points      price  region_1  region_2\n",
              "count  71.000000  66.000000       0.0       0.0\n",
              "mean   87.971831  34.545455       NaN       NaN\n",
              "std     2.254974  16.615268       NaN       NaN\n",
              "min    80.000000  12.000000       NaN       NaN\n",
              "25%    87.000000  20.250000       NaN       NaN\n",
              "50%    88.000000  34.000000       NaN       NaN\n",
              "75%    90.000000  41.500000       NaN       NaN\n",
              "max    91.000000  75.000000       NaN       NaN"
            ]
          },
          "execution_count": 5,
          "metadata": {},
          "output_type": "execute_result"
        }
      ],
      "source": [
        "israeli_wines.describe()"
      ]
    },
    {
      "cell_type": "markdown",
      "id": "0_zafDnpJjQB",
      "metadata": {
        "id": "0_zafDnpJjQB"
      },
      "source": [
        "1."
      ]
    },
    {
      "cell_type": "code",
      "execution_count": 6,
      "id": "M4bHbzb9JkXv",
      "metadata": {
        "colab": {
          "base_uri": "https://localhost:8080/",
          "height": 667
        },
        "id": "M4bHbzb9JkXv",
        "outputId": "39d79d0f-4fb6-46ae-cb79-d6422cfceb94"
      },
      "outputs": [
        {
          "data": {
            "image/png": "[encoded data removed]",
            "text/plain": [
              "<Figure size 1200x600 with 1 Axes>"
            ]
          },
          "metadata": {},
          "output_type": "display_data"
        }
      ],
      "source": [
        "import matplotlib.pyplot as plt\n",
        "import seaborn as sns\n",
        "\n",
        "plt.figure(figsize=(12, 6))\n",
        "sns.boxplot(x='winery', y='points', data=israeli_wines)\n",
        "\n",
        "plt.title('Boxplot of Wine Points by Winery')\n",
        "plt.xlabel('Winery')\n",
        "plt.ylabel('Points')\n",
        "plt.xticks(rotation=45, ha='right')  # Rotate x-axis labels for better readability\n",
        "\n",
        "plt.show()"
      ]
    },
    {
      "cell_type": "markdown",
      "id": "RF6XKANhKjew",
      "metadata": {
        "id": "RF6XKANhKjew"
      },
      "source": [
        "\n",
        "\n",
        "2."
      ]
    },
    {
      "cell_type": "code",
      "execution_count": 7,
      "id": "0mAgrq6XgdCH",
      "metadata": {
        "id": "0mAgrq6XgdCH"
      },
      "outputs": [],
      "source": [
        "from scipy.stats import f\n",
        "import numpy as np\n",
        "\n",
        "k = len(israeli_wines['winery'].unique())\n",
        "n = len(israeli_wines)\n",
        "\n",
        "y_bar = np.mean(israeli_wines['points'].values)  # mean over ALL valid wineries\n",
        "\n",
        "SS_between = np.sum(\n",
        "    [len(israeli_wines[israeli_wines['winery'] == w]) * (np.mean(israeli_wines.loc[israeli_wines['winery'] == w, 'points']) - y_bar) ** 2 for w\n",
        "     in israeli_wines['winery'].unique()]\n",
        ")\n",
        "\n",
        "SS_within = np.sum(\n",
        "    [np.sum(\n",
        "        (israeli_wines.loc[israeli_wines['winery'] == w, 'points'] - np.mean(israeli_wines.loc[israeli_wines['winery'] == w, 'points'])) ** 2)\n",
        "     for w in israeli_wines['winery'].unique()]\n",
        ")\n",
        "\n",
        "MS_between = SS_between / (k - 1)\n",
        "MS_within = SS_within / (n - k)\n",
        "F = MS_between / MS_within\n",
        "p_value = f.sf(F, k - 1, n - k)"
      ]
    },
    {
      "cell_type": "code",
      "execution_count": 8,
      "id": "MnMi5RKaxlwH",
      "metadata": {
        "colab": {
          "base_uri": "https://localhost:8080/"
        },
        "id": "MnMi5RKaxlwH",
        "outputId": "fcd97612-7280-45e7-b008-bc63d61344ed"
      },
      "outputs": [
        {
          "name": "stdout",
          "output_type": "stream",
          "text": [
            "\n",
            "Source    Dof       SS                                       MS                          F\n",
            "Groups    13        83.23576153893053                       6.402750887610041          1.3382699951649166\n",
            "Error     57       272.7079004329005                       4.784349130401763\n",
            "Total     70       355.94366197183103\n",
            "\n"
          ]
        }
      ],
      "source": [
        "print(f\"\"\"\n",
        "Source    Dof       SS                                       MS                          F\n",
        "Groups    {k - 1}        {SS_between}                       {MS_between}          {F}\n",
        "Error     {n - k}       {SS_within}                       {MS_within}\n",
        "Total     {n - 1}       {SS_between + SS_within}\n",
        "\"\"\")"
      ]
    },
    {
      "cell_type": "code",
      "execution_count": 9,
      "id": "PtUfpoll3BLo",
      "metadata": {
        "colab": {
          "base_uri": "https://localhost:8080/"
        },
        "id": "PtUfpoll3BLo",
        "outputId": "0b72229b-15b8-4eb0-d177-0b23adc5b907"
      },
      "outputs": [
        {
          "name": "stdout",
          "output_type": "stream",
          "text": [
            "Conclusion: There is no statistically significant difference in wine quality among different wineries.\n"
          ]
        }
      ],
      "source": [
        "alpha = 0.05\n",
        "if p_value < alpha:\n",
        "    print(\"Conclusion: There is a statistically significant difference in wine quality among different wineries.\")\n",
        "else:\n",
        "    print(\"Conclusion: There is no statistically significant difference in wine quality among different wineries.\")"
      ]
    },
    {
      "cell_type": "markdown",
      "id": "daqh5QGa3gJz",
      "metadata": {
        "id": "daqh5QGa3gJz"
      },
      "source": [
        "2. test"
      ]
    },
    {
      "cell_type": "code",
      "execution_count": 10,
      "id": "RSegRaOYPAxt",
      "metadata": {
        "colab": {
          "base_uri": "https://localhost:8080/"
        },
        "id": "RSegRaOYPAxt",
        "outputId": "322d37bc-b03c-4a70-de7a-bf2d17401f2a"
      },
      "outputs": [
        {
          "name": "stdout",
          "output_type": "stream",
          "text": [
            "+--------+-----+----------+---------+--------+--------------------+\n",
            "| Source | DOF |    SS    |    MS   |   F    |      p_value       |\n",
            "+--------+-----+----------+---------+--------+--------------------+\n",
            "| Groups |  13 |  83.2358 |   6.4028 | 1.3383 | p_value = 0.2189105 |\n",
            "| Error  |  57 | 272.7079 |   4.7843 |        |                    |\n",
            "+--------+-----+----------+---------+--------+--------------------+\n",
            "Conclusion: There is no statistically significant difference in wine quality among different wineries.\n"
          ]
        }
      ],
      "source": [
        "import scipy.stats as stats\n",
        "import numpy as np\n",
        "\n",
        "# Get unique wineries and their corresponding points\n",
        "wineries = israeli_wines['winery'].unique()\n",
        "groups = [israeli_wines['points'][israeli_wines['winery'] == winery] for winery in wineries]\n",
        "\n",
        "# Perform ANOVA\n",
        "fvalue, pvalue = stats.f_oneway(*groups)\n",
        "\n",
        "# Print ANOVA table (Manually formatted)\n",
        "print(\"+--------+-----+----------+---------+--------+--------------------+\")\n",
        "print(\"| Source | DOF |    SS    |    MS   |   F    |      p_value       |\")\n",
        "print(\"+--------+-----+----------+---------+--------+--------------------+\")\n",
        "\n",
        "# Calculate degrees of freedom\n",
        "dof_groups = len(groups) - 1\n",
        "dof_error = sum(len(group) for group in groups) - len(groups)\n",
        "\n",
        "# Calculate sum of squares\n",
        "ss_groups = sum(len(group) * (group.mean() - israeli_wines['points'].mean())**2 for group in groups)\n",
        "ss_error = sum(sum((x - group.mean())**2 for x in group) for group in groups)\n",
        "\n",
        "# Calculate mean squares\n",
        "ms_groups = ss_groups / dof_groups\n",
        "ms_error = ss_error / dof_error\n",
        "\n",
        "# Print table rows\n",
        "print(f\"| Groups |  {dof_groups:2d} | {ss_groups:8.4f} | {ms_groups:8.4f} | {fvalue:6.4f} | p_value = {pvalue:.7f} |\")\n",
        "print(f\"| Error  | {dof_error:3d} | {ss_error:8.4f} | {ms_error:8.4f} |        |                    |\")\n",
        "print(\"+--------+-----+----------+---------+--------+--------------------+\")\n",
        "\n",
        "# Explain conclusion\n",
        "alpha = 0.05\n",
        "if pvalue < alpha:\n",
        "    print(\"Conclusion: There is a statistically significant difference in wine quality among different wineries.\")\n",
        "else:\n",
        "    print(\"Conclusion: There is no statistically significant difference in wine quality among different wineries.\")"
      ]
    },
    {
      "cell_type": "code",
      "execution_count": 11,
      "id": "qVgOeHKKPa0r",
      "metadata": {
        "colab": {
          "base_uri": "https://localhost:8080/",
          "height": 125
        },
        "id": "qVgOeHKKPa0r",
        "outputId": "03512209-31b6-42ff-8ed6-14c9f4e1647f"
      },
      "outputs": [
        {
          "data": {
            "application/vnd.google.colaboratory.intrinsic+json": {
              "summary": "{\n  \"name\": \"anova\",\n  \"rows\": 2,\n  \"fields\": [\n    {\n      \"column\": \"sum_sq\",\n      \"properties\": {\n        \"dtype\": \"number\",\n        \"std\": 133.97703425784456,\n        \"min\": 83.23576153893187,\n        \"max\": 272.70790043290043,\n        \"num_unique_values\": 2,\n        \"samples\": [\n          272.70790043290043,\n          83.23576153893187\n        ],\n        \"semantic_type\": \"\",\n        \"description\": \"\"\n      }\n    },\n    {\n      \"column\": \"df\",\n      \"properties\": {\n        \"dtype\": \"number\",\n        \"std\": 31.11269837220809,\n        \"min\": 13.0,\n        \"max\": 57.0,\n        \"num_unique_values\": 2,\n        \"samples\": [\n          57.0,\n          13.0\n        ],\n        \"semantic_type\": \"\",\n        \"description\": \"\"\n      }\n    },\n    {\n      \"column\": \"F\",\n      \"properties\": {\n        \"dtype\": \"number\",\n        \"std\": null,\n        \"min\": 1.3382699951649384,\n        \"max\": 1.3382699951649384,\n        \"num_unique_values\": 1,\n        \"samples\": [\n          1.3382699951649384\n        ],\n        \"semantic_type\": \"\",\n        \"description\": \"\"\n      }\n    },\n    {\n      \"column\": \"PR(>F)\",\n      \"properties\": {\n        \"dtype\": \"number\",\n        \"std\": null,\n        \"min\": 0.2189104728494452,\n        \"max\": 0.2189104728494452,\n        \"num_unique_values\": 1,\n        \"samples\": [\n          0.2189104728494452\n        ],\n        \"semantic_type\": \"\",\n        \"description\": \"\"\n      }\n    }\n  ]\n}",
              "type": "dataframe",
              "variable_name": "anova"
            },
            "text/html": [
              "\n",
              "  <div id=\"df-43921893-0691-45b6-a805-dfbff27c4822\" class=\"colab-df-container\">\n",
              "    <div>\n",
              "<style scoped>\n",
              "    .dataframe tbody tr th:only-of-type {\n",
              "        vertical-align: middle;\n",
              "    }\n",
              "\n",
              "    .dataframe tbody tr th {\n",
              "        vertical-align: top;\n",
              "    }\n",
              "\n",
              "    .dataframe thead th {\n",
              "        text-align: right;\n",
              "    }\n",
              "</style>\n",
              "<table border=\"1\" class=\"dataframe\">\n",
              "  <thead>\n",
              "    <tr style=\"text-align: right;\">\n",
              "      <th></th>\n",
              "      <th>sum_sq</th>\n",
              "      <th>df</th>\n",
              "      <th>F</th>\n",
              "      <th>PR(&gt;F)</th>\n",
              "    </tr>\n",
              "  </thead>\n",
              "  <tbody>\n",
              "    <tr>\n",
              "      <th>winery</th>\n",
              "      <td>83.235762</td>\n",
              "      <td>13.0</td>\n",
              "      <td>1.33827</td>\n",
              "      <td>0.21891</td>\n",
              "    </tr>\n",
              "    <tr>\n",
              "      <th>Residual</th>\n",
              "      <td>272.707900</td>\n",
              "      <td>57.0</td>\n",
              "      <td>NaN</td>\n",
              "      <td>NaN</td>\n",
              "    </tr>\n",
              "  </tbody>\n",
              "</table>\n",
              "</div>\n",
              "    <div class=\"colab-df-buttons\">\n",
              "\n",
              "  <div class=\"colab-df-container\">\n",
              "    <button class=\"colab-df-convert\" onclick=\"convertToInteractive('df-43921893-0691-45b6-a805-dfbff27c4822')\"\n",
              "            title=\"Convert this dataframe to an interactive table.\"\n",
              "            style=\"display:none;\">\n",
              "\n",
              "  <svg xmlns=\"http://www.w3.org/2000/svg\" height=\"24px\" viewBox=\"0 -960 960 960\">\n",
              "    <path d=\"M120-120v-720h720v720H120Zm60-500h600v-160H180v160Zm220 220h160v-160H400v160Zm0 220h160v-160H400v160ZM180-400h160v-160H180v160Zm440 0h160v-160H620v160ZM180-180h160v-160H180v160Zm440 0h160v-160H620v160Z\"/>\n",
              "  </svg>\n",
              "    </button>\n",
              "\n",
              "  <style>\n",
              "    .colab-df-container {\n",
              "      display:flex;\n",
              "      gap: 12px;\n",
              "    }\n",
              "\n",
              "    .colab-df-convert {\n",
              "      background-color: #E8F0FE;\n",
              "      border: none;\n",
              "      border-radius: 50%;\n",
              "      cursor: pointer;\n",
              "      display: none;\n",
              "      fill: #1967D2;\n",
              "      height: 32px;\n",
              "      padding: 0 0 0 0;\n",
              "      width: 32px;\n",
              "    }\n",
              "\n",
              "    .colab-df-convert:hover {\n",
              "      background-color: #E2EBFA;\n",
              "      box-shadow: 0px 1px 2px rgba(60, 64, 67, 0.3), 0px 1px 3px 1px rgba(60, 64, 67, 0.15);\n",
              "      fill: #174EA6;\n",
              "    }\n",
              "\n",
              "    .colab-df-buttons div {\n",
              "      margin-bottom: 4px;\n",
              "    }\n",
              "\n",
              "    [theme=dark] .colab-df-convert {\n",
              "      background-color: #3B4455;\n",
              "      fill: #D2E3FC;\n",
              "    }\n",
              "\n",
              "    [theme=dark] .colab-df-convert:hover {\n",
              "      background-color: #434B5C;\n",
              "      box-shadow: 0px 1px 3px 1px rgba(0, 0, 0, 0.15);\n",
              "      filter: drop-shadow(0px 1px 2px rgba(0, 0, 0, 0.3));\n",
              "      fill: #FFFFFF;\n",
              "    }\n",
              "  </style>\n",
              "\n",
              "    <script>\n",
              "      const buttonEl =\n",
              "        document.querySelector('#df-43921893-0691-45b6-a805-dfbff27c4822 button.colab-df-convert');\n",
              "      buttonEl.style.display =\n",
              "        google.colab.kernel.accessAllowed ? 'block' : 'none';\n",
              "\n",
              "      async function convertToInteractive(key) {\n",
              "        const element = document.querySelector('#df-43921893-0691-45b6-a805-dfbff27c4822');\n",
              "        const dataTable =\n",
              "          await google.colab.kernel.invokeFunction('convertToInteractive',\n",
              "                                                    [key], {});\n",
              "        if (!dataTable) return;\n",
              "\n",
              "        const docLinkHtml = 'Like what you see? Visit the ' +\n",
              "          '<a target=\"_blank\" href=https://colab.research.google.com/notebooks/data_table.ipynb>data table notebook</a>'\n",
              "          + ' to learn more about interactive tables.';\n",
              "        element.innerHTML = '';\n",
              "        dataTable['output_type'] = 'display_data';\n",
              "        await google.colab.output.renderOutput(dataTable, element);\n",
              "        const docLink = document.createElement('div');\n",
              "        docLink.innerHTML = docLinkHtml;\n",
              "        element.appendChild(docLink);\n",
              "      }\n",
              "    </script>\n",
              "  </div>\n",
              "\n",
              "\n",
              "<div id=\"df-2634d3cc-b47a-4796-8c19-0def177c87e2\">\n",
              "  <button class=\"colab-df-quickchart\" onclick=\"quickchart('df-2634d3cc-b47a-4796-8c19-0def177c87e2')\"\n",
              "            title=\"Suggest charts\"\n",
              "            style=\"display:none;\">\n",
              "\n",
              "<svg xmlns=\"http://www.w3.org/2000/svg\" height=\"24px\"viewBox=\"0 0 24 24\"\n",
              "     width=\"24px\">\n",
              "    <g>\n",
              "        <path d=\"M19 3H5c-1.1 0-2 .9-2 2v14c0 1.1.9 2 2 2h14c1.1 0 2-.9 2-2V5c0-1.1-.9-2-2-2zM9 17H7v-7h2v7zm4 0h-2V7h2v10zm4 0h-2v-4h2v4z\"/>\n",
              "    </g>\n",
              "</svg>\n",
              "  </button>\n",
              "\n",
              "<style>\n",
              "  .colab-df-quickchart {\n",
              "      --bg-color: #E8F0FE;\n",
              "      --fill-color: #1967D2;\n",
              "      --hover-bg-color: #E2EBFA;\n",
              "      --hover-fill-color: #174EA6;\n",
              "      --disabled-fill-color: #AAA;\n",
              "      --disabled-bg-color: #DDD;\n",
              "  }\n",
              "\n",
              "  [theme=dark] .colab-df-quickchart {\n",
              "      --bg-color: #3B4455;\n",
              "      --fill-color: #D2E3FC;\n",
              "      --hover-bg-color: #434B5C;\n",
              "      --hover-fill-color: #FFFFFF;\n",
              "      --disabled-bg-color: #3B4455;\n",
              "      --disabled-fill-color: #666;\n",
              "  }\n",
              "\n",
              "  .colab-df-quickchart {\n",
              "    background-color: var(--bg-color);\n",
              "    border: none;\n",
              "    border-radius: 50%;\n",
              "    cursor: pointer;\n",
              "    display: none;\n",
              "    fill: var(--fill-color);\n",
              "    height: 32px;\n",
              "    padding: 0;\n",
              "    width: 32px;\n",
              "  }\n",
              "\n",
              "  .colab-df-quickchart:hover {\n",
              "    background-color: var(--hover-bg-color);\n",
              "    box-shadow: 0 1px 2px rgba(60, 64, 67, 0.3), 0 1px 3px 1px rgba(60, 64, 67, 0.15);\n",
              "    fill: var(--button-hover-fill-color);\n",
              "  }\n",
              "\n",
              "  .colab-df-quickchart-complete:disabled,\n",
              "  .colab-df-quickchart-complete:disabled:hover {\n",
              "    background-color: var(--disabled-bg-color);\n",
              "    fill: var(--disabled-fill-color);\n",
              "    box-shadow: none;\n",
              "  }\n",
              "\n",
              "  .colab-df-spinner {\n",
              "    border: 2px solid var(--fill-color);\n",
              "    border-color: transparent;\n",
              "    border-bottom-color: var(--fill-color);\n",
              "    animation:\n",
              "      spin 1s steps(1) infinite;\n",
              "  }\n",
              "\n",
              "  @keyframes spin {\n",
              "    0% {\n",
              "      border-color: transparent;\n",
              "      border-bottom-color: var(--fill-color);\n",
              "      border-left-color: var(--fill-color);\n",
              "    }\n",
              "    20% {\n",
              "      border-color: transparent;\n",
              "      border-left-color: var(--fill-color);\n",
              "      border-top-color: var(--fill-color);\n",
              "    }\n",
              "    30% {\n",
              "      border-color: transparent;\n",
              "      border-left-color: var(--fill-color);\n",
              "      border-top-color: var(--fill-color);\n",
              "      border-right-color: var(--fill-color);\n",
              "    }\n",
              "    40% {\n",
              "      border-color: transparent;\n",
              "      border-right-color: var(--fill-color);\n",
              "      border-top-color: var(--fill-color);\n",
              "    }\n",
              "    60% {\n",
              "      border-color: transparent;\n",
              "      border-right-color: var(--fill-color);\n",
              "    }\n",
              "    80% {\n",
              "      border-color: transparent;\n",
              "      border-right-color: var(--fill-color);\n",
              "      border-bottom-color: var(--fill-color);\n",
              "    }\n",
              "    90% {\n",
              "      border-color: transparent;\n",
              "      border-bottom-color: var(--fill-color);\n",
              "    }\n",
              "  }\n",
              "</style>\n",
              "\n",
              "  <script>\n",
              "    async function quickchart(key) {\n",
              "      const quickchartButtonEl =\n",
              "        document.querySelector('#' + key + ' button');\n",
              "      quickchartButtonEl.disabled = true;  // To prevent multiple clicks.\n",
              "      quickchartButtonEl.classList.add('colab-df-spinner');\n",
              "      try {\n",
              "        const charts = await google.colab.kernel.invokeFunction(\n",
              "            'suggestCharts', [key], {});\n",
              "      } catch (error) {\n",
              "        console.error('Error during call to suggestCharts:', error);\n",
              "      }\n",
              "      quickchartButtonEl.classList.remove('colab-df-spinner');\n",
              "      quickchartButtonEl.classList.add('colab-df-quickchart-complete');\n",
              "    }\n",
              "    (() => {\n",
              "      let quickchartButtonEl =\n",
              "        document.querySelector('#df-2634d3cc-b47a-4796-8c19-0def177c87e2 button');\n",
              "      quickchartButtonEl.style.display =\n",
              "        google.colab.kernel.accessAllowed ? 'block' : 'none';\n",
              "    })();\n",
              "  </script>\n",
              "</div>\n",
              "\n",
              "  <div id=\"id_9ccb2133-0c43-483e-a49a-846e6665d842\">\n",
              "    <style>\n",
              "      .colab-df-generate {\n",
              "        background-color: #E8F0FE;\n",
              "        border: none;\n",
              "        border-radius: 50%;\n",
              "        cursor: pointer;\n",
              "        display: none;\n",
              "        fill: #1967D2;\n",
              "        height: 32px;\n",
              "        padding: 0 0 0 0;\n",
              "        width: 32px;\n",
              "      }\n",
              "\n",
              "      .colab-df-generate:hover {\n",
              "        background-color: #E2EBFA;\n",
              "        box-shadow: 0px 1px 2px rgba(60, 64, 67, 0.3), 0px 1px 3px 1px rgba(60, 64, 67, 0.15);\n",
              "        fill: #174EA6;\n",
              "      }\n",
              "\n",
              "      [theme=dark] .colab-df-generate {\n",
              "        background-color: #3B4455;\n",
              "        fill: #D2E3FC;\n",
              "      }\n",
              "\n",
              "      [theme=dark] .colab-df-generate:hover {\n",
              "        background-color: #434B5C;\n",
              "        box-shadow: 0px 1px 3px 1px rgba(0, 0, 0, 0.15);\n",
              "        filter: drop-shadow(0px 1px 2px rgba(0, 0, 0, 0.3));\n",
              "        fill: #FFFFFF;\n",
              "      }\n",
              "    </style>\n",
              "    <button class=\"colab-df-generate\" onclick=\"generateWithVariable('anova')\"\n",
              "            title=\"Generate code using this dataframe.\"\n",
              "            style=\"display:none;\">\n",
              "\n",
              "  <svg xmlns=\"http://www.w3.org/2000/svg\" height=\"24px\"viewBox=\"0 0 24 24\"\n",
              "       width=\"24px\">\n",
              "    <path d=\"M7,19H8.4L18.45,9,17,7.55,7,17.6ZM5,21V16.75L18.45,3.32a2,2,0,0,1,2.83,0l1.4,1.43a1.91,1.91,0,0,1,.58,1.4,1.91,1.91,0,0,1-.58,1.4L9.25,21ZM18.45,9,17,7.55Zm-12,3A5.31,5.31,0,0,0,4.9,8.1,5.31,5.31,0,0,0,1,6.5,5.31,5.31,0,0,0,4.9,4.9,5.31,5.31,0,0,0,6.5,1,5.31,5.31,0,0,0,8.1,4.9,5.31,5.31,0,0,0,12,6.5,5.46,5.46,0,0,0,6.5,12Z\"/>\n",
              "  </svg>\n",
              "    </button>\n",
              "    <script>\n",
              "      (() => {\n",
              "      const buttonEl =\n",
              "        document.querySelector('#id_9ccb2133-0c43-483e-a49a-846e6665d842 button.colab-df-generate');\n",
              "      buttonEl.style.display =\n",
              "        google.colab.kernel.accessAllowed ? 'block' : 'none';\n",
              "\n",
              "      buttonEl.onclick = () => {\n",
              "        google.colab.notebook.generateWithVariable('anova');\n",
              "      }\n",
              "      })();\n",
              "    </script>\n",
              "  </div>\n",
              "\n",
              "    </div>\n",
              "  </div>\n"
            ],
            "text/plain": [
              "              sum_sq    df        F   PR(>F)\n",
              "winery     83.235762  13.0  1.33827  0.21891\n",
              "Residual  272.707900  57.0      NaN      NaN"
            ]
          },
          "execution_count": 11,
          "metadata": {},
          "output_type": "execute_result"
        }
      ],
      "source": [
        "import statsmodels.api as sm\n",
        "from statsmodels.formula.api import ols\n",
        "\n",
        "# ANOVA Test\n",
        "model = ols('points ~ winery', data=israeli_wines).fit()\n",
        "anova = sm.stats.anova_lm(model, typ=2)\n",
        "anova"
      ]
    },
    {
      "cell_type": "code",
      "execution_count": 12,
      "id": "mhA-Y2kkOHI_",
      "metadata": {
        "colab": {
          "base_uri": "https://localhost:8080/"
        },
        "id": "mhA-Y2kkOHI_",
        "outputId": "29ee7441-ab53-40cd-b151-4fe4f9ddd22a"
      },
      "outputs": [
        {
          "name": "stdout",
          "output_type": "stream",
          "text": [
            "Conclusion: There is no statistically significant difference in wine quality among different wineries.\n"
          ]
        },
        {
          "name": "stderr",
          "output_type": "stream",
          "text": [
            "<ipython-input-12-2d373ffbb5b2>:2: FutureWarning: Series.__getitem__ treating keys as positions is deprecated. In a future version, integer keys will always be treated as labels (consistent with DataFrame behavior). To access a value by position, use `ser.iloc[pos]`\n",
            "  if anova['PR(>F)'][0] < alpha:\n"
          ]
        }
      ],
      "source": [
        "\n",
        "alpha = 0.05\n",
        "if anova['PR(>F)'][0] < alpha:\n",
        "    print(\"Conclusion: There is a statistically significant difference in wine quality among different wineries.\")\n",
        "else:\n",
        "    print(\"Conclusion: There is no statistically significant difference in wine quality among different wineries.\")"
      ]
    },
    {
      "cell_type": "markdown",
      "id": "oBr69afV4n0D",
      "metadata": {
        "id": "oBr69afV4n0D"
      },
      "source": [
        "3.1\n"
      ]
    },
    {
      "cell_type": "code",
      "execution_count": 13,
      "id": "u22KNeV44nFX",
      "metadata": {
        "colab": {
          "base_uri": "https://localhost:8080/"
        },
        "id": "u22KNeV44nFX",
        "outputId": "f4d71900-38cb-4631-d364-aa20ac06f230"
      },
      "outputs": [
        {
          "name": "stdout",
          "output_type": "stream",
          "text": [
            "4 p-values (out of 91) fall below 0.05\n",
            "It is less than what is expected if all tests are null.\n",
            "It is expected that 5 will be rejected.\n"
          ]
        }
      ],
      "source": [
        "from scipy.stats import t as ttest\n",
        "import numpy as np\n",
        "import itertools\n",
        "\n",
        "all_pairs = list(itertools.combinations(israeli_wines['winery'].unique(), 2))\n",
        "\n",
        "def pair_ttest(y_0, y_1):\n",
        "    n_0 = len(y_0)\n",
        "    n_1 = len(y_1)\n",
        "    mu_0 = np.mean(y_0)\n",
        "    mu_1 = np.mean(y_1)\n",
        "    degrees_of_freedom = n_0 + n_1 - 2\n",
        "    s = np.sqrt((np.sum((y_0 - mu_0) ** 2) + np.sum((y_1 - mu_1) ** 2)) / degrees_of_freedom)\n",
        "\n",
        "    if s <= 0:\n",
        "        s = 1e-6\n",
        "\n",
        "    numerator = mu_1 - mu_0\n",
        "    denominator = s * np.sqrt((1 / n_0) + (1 / n_1))\n",
        "    t = numerator / denominator\n",
        "\n",
        "    return t, degrees_of_freedom\n",
        "\n",
        "p_values_israeli_wines = []\n",
        "for winery1, winery2 in all_pairs:\n",
        "    group1 = israeli_wines['points'][israeli_wines['winery'] == winery1]\n",
        "    group2 = israeli_wines['points'][israeli_wines['winery'] == winery2]\n",
        "    t, degrees_of_freedom = pair_ttest(group1, group2)\n",
        "    p_value = ttest.sf(abs(t), degrees_of_freedom)\n",
        "    p_values_israeli_wines.append(p_value)\n",
        "\n",
        "alpha = 0.05\n",
        "p_values_below = list(filter(lambda x: x < (alpha / 2), p_values_israeli_wines))\n",
        "print(f'{len(p_values_below)} p-values (out of {len(p_values_israeli_wines)}) fall below {alpha}')\n",
        "\n",
        "print(f'It is less than what is expected if all tests are null.\\n'\n",
        "      f'It is expected that {round(alpha * len(p_values_israeli_wines))} will be rejected.')"
      ]
    },
    {
      "cell_type": "markdown",
      "id": "DmKatAiHUmKI",
      "metadata": {
        "id": "DmKatAiHUmKI"
      },
      "source": [
        "3.2"
      ]
    },
    {
      "cell_type": "code",
      "execution_count": 14,
      "id": "vHdfI1jAS6af",
      "metadata": {
        "colab": {
          "base_uri": "https://localhost:8080/"
        },
        "id": "vHdfI1jAS6af",
        "outputId": "495a4f30-96e8-4e4f-e1e9-a4d5ffb867a0"
      },
      "outputs": [
        {
          "name": "stdout",
          "output_type": "stream",
          "text": [
            "0 p-values (out of 91) fall below 0.05 after Bonferroni's correction\n"
          ]
        }
      ],
      "source": [
        "alpha_bonferroni = alpha / len(all_pairs)\n",
        "p_values_bonferroni_below = list(filter(lambda x: x < (alpha_bonferroni / 2), p_values_israeli_wines))\n",
        "print(f'{len(p_values_bonferroni_below)} p-values (out of {len(p_values_israeli_wines)}) fall below {alpha} after Bonferroni\\'s correction')"
      ]
    },
    {
      "cell_type": "code",
      "execution_count": 15,
      "id": "7LSbRQefUtAv",
      "metadata": {
        "colab": {
          "base_uri": "https://localhost:8080/"
        },
        "id": "7LSbRQefUtAv",
        "outputId": "93136891-3284-4c79-8234-5fe7c56a6163"
      },
      "outputs": [
        {
          "name": "stdout",
          "output_type": "stream",
          "text": [
            "\n",
            "There are 0 out of 91 total p-values that are significantly lower than the new alpha after bonferonni correction: 0.0005495\n",
            "\n",
            "The following Wineries are significantly greater:\n",
            "\n",
            "\n"
          ]
        }
      ],
      "source": [
        "NEW_ALPHA = alpha / len(all_pairs)\n",
        "\n",
        "p_vals_significant_new = [p_val for p_val in p_values_israeli_wines if p_val < NEW_ALPHA / 2]\n",
        "\n",
        "print(f\"\\nThere are {len(p_vals_significant_new)} out of {len(all_pairs)} total p-values that are significantly lower than the new alpha after bonferonni correction: {NEW_ALPHA:.7f}\")\n",
        "\n",
        "print(\"\\nThe following Wineries are significantly greater:\\n\\n\")\n",
        "for i, p_val in enumerate(p_values_israeli_wines):\n",
        "\n",
        "    if p_val > NEW_ALPHA / 2:\n",
        "        continue\n",
        "\n",
        "    winery_1, winery_2 = all_pairs[i]\n",
        "\n",
        "    data1 = israeli_wines[israeli_wines.winery == winery_1][\"points\"]\n",
        "    data2 = israeli_wines[israeli_wines.winery == winery_2][\"points\"]\n",
        "\n",
        "    data1_mean = np.mean(data1)\n",
        "    data2_mean = np.mean(data2)\n",
        "\n",
        "    if data1_mean > data2_mean:\n",
        "        print(f\"\\n{winery_1}'s mean = {data1_mean:.3f} is significantly higher than {winery_2}'s mean = {data2_mean:.3f} points\")\n",
        "\n",
        "    else:\n",
        "        print(f\"\\n{winery_2}'s mean = {data2_mean:.3f} is significantly higher than {winery_1}'s mean = {data1_mean:.3f} points\")"
      ]
    },
    {
      "cell_type": "markdown",
      "id": "JQMwjOy1R2PB",
      "metadata": {
        "id": "JQMwjOy1R2PB"
      },
      "source": [
        "4."
      ]
    },
    {
      "cell_type": "code",
      "execution_count": 16,
      "id": "m2UdpWMJGHyI",
      "metadata": {
        "id": "m2UdpWMJGHyI"
      },
      "outputs": [],
      "source": [
        "golan_area_wineries = ['Bazelet HaGolan', 'Golan Heights Winery']\n",
        "judean_hills_area_wineries = ['Katlav', 'Psagot', 'Shiloh Winery', 'Titora', 'Yatir']"
      ]
    },
    {
      "cell_type": "code",
      "execution_count": 17,
      "id": "hO1xsqbdGIcD",
      "metadata": {
        "id": "hO1xsqbdGIcD"
      },
      "outputs": [],
      "source": [
        "golan_wines = israeli_wines[israeli_wines['winery'].isin(golan_area_wineries)]\n",
        "judean_hills_wines = israeli_wines[israeli_wines['winery'].isin(judean_hills_area_wineries)]"
      ]
    },
    {
      "cell_type": "code",
      "execution_count": 18,
      "id": "ESBTuph2GNUh",
      "metadata": {
        "id": "ESBTuph2GNUh"
      },
      "outputs": [],
      "source": [
        "from scipy import stats\n",
        "\n",
        "t_statistic, p_value = stats.ttest_ind(\n",
        "    golan_wines['points'], judean_hills_wines['points'], equal_var=True\n",
        ")"
      ]
    },
    {
      "cell_type": "code",
      "execution_count": 19,
      "id": "kjK6R8a1E-Vt",
      "metadata": {
        "colab": {
          "base_uri": "https://localhost:8080/"
        },
        "id": "kjK6R8a1E-Vt",
        "outputId": "a622fcdb-d504-46ad-9a16-1f07ab10c7a3"
      },
      "outputs": [
        {
          "name": "stdout",
          "output_type": "stream",
          "text": [
            "t-statistic: -0.12\n",
            "p-value: 0.903\n",
            "Fail to reject the null hypothesis.\n",
            "There is no significant difference in quality between Golan and Judean Hills Cabernet Sauvignon wines.\n"
          ]
        }
      ],
      "source": [
        "print(f\"t-statistic: {t_statistic:.2f}\")\n",
        "print(f\"p-value: {p_value:.3f}\")\n",
        "\n",
        "alpha = 0.05  # Significance level\n",
        "\n",
        "if p_value < alpha:\n",
        "    print(\"Reject the null hypothesis.\")\n",
        "    print(\"There is a significant difference in quality between Golan and Judean Hills Cabernet Sauvignon wines.\")\n",
        "else:\n",
        "    print(\"Fail to reject the null hypothesis.\")\n",
        "    print(\"There is no significant difference in quality between Golan and Judean Hills Cabernet Sauvignon wines.\")"
      ]
    },
    {
      "cell_type": "markdown",
      "id": "LEQtFnMV86EL",
      "metadata": {
        "id": "LEQtFnMV86EL"
      },
      "source": [
        "4. using sf ttest"
      ]
    },
    {
      "cell_type": "code",
      "execution_count": 20,
      "id": "JxT19X6uAfTz",
      "metadata": {
        "id": "JxT19X6uAfTz"
      },
      "outputs": [],
      "source": [
        "golan_area_wineries = ['Bazelet HaGolan', 'Golan Heights Winery']\n",
        "judean_hills_area_wineries = ['Katlav', 'Psagot', 'Shiloh Winery', 'Titora', 'Yatir']\n",
        "\n",
        "golan_wines = israeli_wines[israeli_wines['winery'].isin(golan_area_wineries)]\n",
        "judean_hills_wines = israeli_wines[israeli_wines['winery'].isin(judean_hills_area_wineries)]"
      ]
    },
    {
      "cell_type": "code",
      "execution_count": 21,
      "id": "wQXfNw3cAXvF",
      "metadata": {
        "colab": {
          "base_uri": "https://localhost:8080/"
        },
        "id": "wQXfNw3cAXvF",
        "outputId": "7e2f38ce-f177-44fa-98e0-3c2176eeca2e"
      },
      "outputs": [
        {
          "name": "stdout",
          "output_type": "stream",
          "text": [
            "t-statistic: -0.12\n",
            "p-value: 0.903\n",
            "Fail to reject the null hypothesis.\n",
            "There is no significant difference in quality between Golan and Judean Hills Cabernet Sauvignon wines.\n"
          ]
        }
      ],
      "source": [
        "from scipy.stats import t as ttest\n",
        "import numpy as np\n",
        "\n",
        "golan_mean = np.mean(golan_wines['points'])\n",
        "judean_hills_mean = np.mean(judean_hills_wines['points'])\n",
        "n_golan = len(golan_wines)\n",
        "n_judean_hills = len(judean_hills_wines)\n",
        "\n",
        "# Calculate the pooled standard deviation\n",
        "pooled_std = np.sqrt(\n",
        "    (\n",
        "        (n_golan - 1) * np.var(golan_wines['points'], ddof=1)\n",
        "        + (n_judean_hills - 1) * np.var(judean_hills_wines['points'], ddof=1)\n",
        "    )\n",
        "    / (n_golan + n_judean_hills - 2)\n",
        ")\n",
        "\n",
        "# Calculate the t-statistic\n",
        "t_statistic = (golan_mean - judean_hills_mean) / (\n",
        "    pooled_std * np.sqrt(1 / n_golan + 1 / n_judean_hills)\n",
        ")\n",
        "\n",
        "degrees_of_freedom = n_golan + n_judean_hills - 2\n",
        "p_value = ttest.sf(abs(t_statistic), degrees_of_freedom) * 2  # Two-tailed test\n",
        "\n",
        "print(f\"t-statistic: {t_statistic:.2f}\")\n",
        "print(f\"p-value: {p_value:.3f}\")\n",
        "\n",
        "alpha = 0.05\n",
        "\n",
        "if p_value < alpha:\n",
        "    print(\"Reject the null hypothesis.\")\n",
        "    print(\"There is a significant difference in quality between Golan and Judean Hills Cabernet Sauvignon wines.\")\n",
        "else:\n",
        "    print(\"Fail to reject the null hypothesis.\")\n",
        "    print(\"There is no significant difference in quality between Golan and Judean Hills Cabernet Sauvignon wines.\")"
      ]
    },
    {
      "cell_type": "markdown",
      "id": "gnWFdMN9EzYm",
      "metadata": {
        "id": "gnWFdMN9EzYm"
      },
      "source": [
        "4. play ground/ tests"
      ]
    },
    {
      "cell_type": "code",
      "execution_count": 44,
      "id": "dcVSm23wSb7A",
      "metadata": {
        "colab": {
          "base_uri": "https://localhost:8080/"
        },
        "id": "dcVSm23wSb7A",
        "outputId": "2545a946-a51d-42ab-da7e-488300a1e6f1"
      },
      "outputs": [
        {
          "data": {
            "text/plain": [
              "41.501829384514345"
            ]
          },
          "execution_count": 44,
          "metadata": {},
          "output_type": "execute_result"
        }
      ],
      "source": [
        "# golan_area_wineries_list = ['Bazelet HaGolan', 'Golan Heights Winery']\n",
        "# judean_hills_area_wineries_list = ['Katlav', 'Psagot', 'Shiloh Winery', 'Titora', 'Yatir']\n",
        "# golan_area_wineries_df = israeli_wines[israeli_wines['winery'].isin(golan_area_wineries_list)]\n",
        "# judean_hills_area_wineries_df = israeli_wines[israeli_wines['winery'].isin(judean_hills_area_wineries_list)]\n",
        "\n",
        "\n",
        "# n_golan = golan_area_wineries_df.groupby('winery')['points'].count().values\n",
        "# n_judea = judean_hills_area_wineries_df.groupby('winery')['points'].count().values\n",
        "\n",
        "# lambda_golan = [1 / len(golan_area_wineries_list)] * len(n_golan)\n",
        "# lambda_judea = [-1 / len(judean_hills_area_wineries_list)] * len(n_judea)\n",
        "\n",
        "# lambdas = np.array(lambda_golan + lambda_judea)\n",
        "\n",
        "# y_bar_golan = golan_area_wineries_df.groupby('winery')['points'].mean()\n",
        "# y_bar_judea = judean_hills_area_wineries_df.groupby('winery')['points'].mean()\n",
        "# y_s = np.concatenate([y_bar_golan.values, y_bar_judea.values])\n",
        "# n_s = np.concatenate([n_golan, n_judea])\n",
        "\n",
        "# def ssquares(x):\n",
        "#     return np.sum((x - np.mean(x)) ** 2)\n",
        "\n",
        "\n",
        "# n = len(israeli_wines)\n",
        "# k = len(israeli_wines['winery'].unique())\n",
        "# ss_within = israeli_wines.groupby('winery')['points'].agg(ssquares).sum()\n",
        "# MS_within = ss_within / (n - k)\n",
        "\n",
        "# s = np.sqrt(MS_within)\n",
        "# t = (np.sum(lambdas * y_s)) / (s * np.sqrt(np.sum((lambdas ** 2) / n_s)))\n",
        "# t\n"
      ]
    },
    {
      "cell_type": "code",
      "execution_count": 45,
      "id": "AJd-rMeVS_Gw",
      "metadata": {
        "colab": {
          "base_uri": "https://localhost:8080/"
        },
        "id": "AJd-rMeVS_Gw",
        "outputId": "978ae431-2b2b-4d8b-c037-2f2c206e85dd"
      },
      "outputs": [
        {
          "data": {
            "text/plain": [
              "1.372517235554918e-44"
            ]
          },
          "execution_count": 45,
          "metadata": {},
          "output_type": "execute_result"
        }
      ],
      "source": [
        "# from scipy.stats import t as ttest\n",
        "\n",
        "# p_value = ttest.sf(abs(t), n - k)\n",
        "# p_value"
      ]
    },
    {
      "cell_type": "code",
      "execution_count": 46,
      "id": "nh-6oMdASsd2",
      "metadata": {
        "colab": {
          "base_uri": "https://localhost:8080/"
        },
        "id": "nh-6oMdASsd2",
        "outputId": "4388a2df-3035-4665-8f96-c32311327fac"
      },
      "outputs": [
        {
          "name": "stdout",
          "output_type": "stream",
          "text": [
            "We reject H0 that Golan area wineries have the same quality(in terms of POINTS) as Judean area wineries with alpha = 0.05, and with p-value = 0.00000\n"
          ]
        }
      ],
      "source": [
        "# ALPHA = 0.05\n",
        "# reject = \"reject\" if p_value < ALPHA else \"CAN'T reject\"\n",
        "# print(f\"We {reject} H0 that Golan area wineries have the same quality(in terms of POINTS) as Judean area wineries \"\n",
        "#       f\"with alpha = {ALPHA}, and with p-value = {p_value:.5f}\")"
      ]
    },
    {
      "cell_type": "code",
      "execution_count": 25,
      "id": "Bt4wldjyJBig",
      "metadata": {
        "id": "Bt4wldjyJBig"
      },
      "outputs": [],
      "source": [
        "golan_wineries = ['Bazelet HaGolan', 'Golan Heights Winery']\n",
        "judean_wineries = ['Katlav', 'Psagot', 'Shiloh Winery', 'Titora', 'Yatir']\n",
        "\n",
        "contrast_wines = israeli_wines[israeli_wines.winery.isin(golan_wineries + judean_wineries)]\n",
        "present_wineries = contrast_wines['winery'].unique()\n",
        "golan_wineries = [winery for winery in golan_wineries if winery in present_wineries]\n",
        "judean_wineries = [winery for winery in judean_wineries if winery in present_wineries]\n",
        "\n",
        "contrast_wines = israeli_wines[israeli_wines.winery.isin(golan_wineries + judean_wineries)]"
      ]
    },
    {
      "cell_type": "code",
      "execution_count": 26,
      "id": "AfA86006JFsd",
      "metadata": {
        "id": "AfA86006JFsd"
      },
      "outputs": [],
      "source": [
        "n = contrast_wines.shape[0]\n",
        "k = len(golan_wineries + judean_wineries)\n",
        "\n",
        "y_bar = contrast_wines.groupby('winery').points.mean()\n",
        "counts = contrast_wines.groupby('winery').points.count()\n",
        "\n",
        "ss_wit = contrast_wines.groupby('winery').points.agg(lambda x: np.sum((x - np.mean(x)) ** 2)).sum()\n",
        "s2 = ss_wit / (n - k)\n",
        "\n",
        "counts_golan = counts[counts.index.isin(golan_wineries)]\n",
        "counts_judean = counts[counts.index.isin(judean_wineries)]\n",
        "\n",
        "y_bar_golan = y_bar[y_bar.index.isin(golan_wineries)].mean()\n",
        "y_bar_judean = y_bar[y_bar.index.isin(judean_wineries)].mean()\n",
        "\n",
        "p = (y_bar_judean - y_bar_golan) / np.sqrt(\n",
        "        s2 * (\n",
        "        (1/len(counts_golan)**2) * (1/counts_golan).sum() +\n",
        "        (1/len(counts_judean)**2) * (1/counts_judean).sum())\n",
        "    )"
      ]
    },
    {
      "cell_type": "code",
      "execution_count": 27,
      "id": "XqELoXgOJIGx",
      "metadata": {
        "id": "XqELoXgOJIGx"
      },
      "outputs": [],
      "source": [
        "from scipy.stats import t\n",
        "# p-value\n",
        "p_value = t.cdf(p, df=n-k)"
      ]
    },
    {
      "cell_type": "code",
      "execution_count": 28,
      "id": "4WRXQYOkJJxj",
      "metadata": {
        "colab": {
          "base_uri": "https://localhost:8080/"
        },
        "id": "4WRXQYOkJJxj",
        "outputId": "722dbe12-8209-4f72-d495-80e3985430e5"
      },
      "outputs": [
        {
          "name": "stdout",
          "output_type": "stream",
          "text": [
            "t statistic value: -0.278\n",
            "p-value: 0.393\n"
          ]
        }
      ],
      "source": [
        "print(f\"t statistic value: {p:.3f}\")\n",
        "print(f\"p-value: {p_value:.3f}\")"
      ]
    },
    {
      "cell_type": "code",
      "execution_count": 29,
      "id": "6dN3YMP2JPQ5",
      "metadata": {
        "colab": {
          "base_uri": "https://localhost:8080/"
        },
        "id": "6dN3YMP2JPQ5",
        "outputId": "c28cf2d5-9882-4aa8-8756-7f89bc0420f1"
      },
      "outputs": [
        {
          "name": "stdout",
          "output_type": "stream",
          "text": [
            "Fail to reject the null hypothesis.\n",
            "There is no significant difference in quality between Golan and Judean Hills Cabernet Sauvignon wines.\n"
          ]
        }
      ],
      "source": [
        "alpha = 0.05\n",
        "\n",
        "if p_value < alpha:\n",
        "    print(\"Reject the null hypothesis.\")\n",
        "    print(\"There is a significant difference in quality between Golan and Judean Hills Cabernet Sauvignon wines.\")\n",
        "else:\n",
        "    print(\"Fail to reject the null hypothesis.\")\n",
        "    print(\"There is no significant difference in quality between Golan and Judean Hills Cabernet Sauvignon wines.\")"
      ]
    },
    {
      "cell_type": "code",
      "execution_count": 30,
      "id": "kDpmX8BfKNAW",
      "metadata": {
        "id": "kDpmX8BfKNAW"
      },
      "outputs": [],
      "source": [
        "golan_area_wineries = ['Bazelet HaGolan', 'Golan Heights Winery']\n",
        "judean_hills_area_wineries = ['Katlav', 'Psagot', 'Shiloh Winery', 'Titora', 'Yatir']\n",
        "\n",
        "golan_wines = israeli_wines[israeli_wines['winery'].isin(golan_area_wineries)]\n",
        "judean_hills_wines = israeli_wines[israeli_wines['winery'].isin(judean_hills_area_wineries)]"
      ]
    },
    {
      "cell_type": "code",
      "execution_count": 31,
      "id": "GB3oPTxKKRdU",
      "metadata": {
        "id": "GB3oPTxKKRdU"
      },
      "outputs": [],
      "source": [
        "import numpy as np\n",
        "\n",
        "# Calculate the pooled variance using all wineries\n",
        "all_wineries_points = israeli_wines['points']\n",
        "pooled_variance = np.var(all_wineries_points, ddof=1)  # ddof=1 for sample variance"
      ]
    },
    {
      "cell_type": "code",
      "execution_count": 32,
      "id": "HGmyGWl4KTgE",
      "metadata": {
        "id": "HGmyGWl4KTgE"
      },
      "outputs": [],
      "source": [
        "from scipy import stats\n",
        "import numpy as np\n",
        "\n",
        "# Calculate the means and sample sizes for each group\n",
        "golan_mean = np.mean(golan_wines['points'])\n",
        "judean_hills_mean = np.mean(judean_hills_wines['points'])\n",
        "n_golan = len(golan_wines)\n",
        "n_judean_hills = len(judean_hills_wines)\n",
        "\n",
        "\n",
        "# Calculate the t-statistic using the pooled variance\n",
        "t_statistic = (golan_mean - judean_hills_mean) / (\n",
        "    np.sqrt(pooled_variance * (1 / n_golan + 1 / n_judean_hills))\n",
        ")\n",
        "\n",
        "# Calculate the p-value using ttest.sf\n",
        "degrees_of_freedom = n_golan + n_judean_hills - 2\n",
        "p_value = stats.t.sf(abs(t_statistic), degrees_of_freedom) * 2  # Two-tailed test"
      ]
    },
    {
      "cell_type": "code",
      "execution_count": 33,
      "id": "20fUUyNaKVd4",
      "metadata": {
        "colab": {
          "base_uri": "https://localhost:8080/"
        },
        "id": "20fUUyNaKVd4",
        "outputId": "531b87e9-e76a-4f46-b426-08c5a69b852c"
      },
      "outputs": [
        {
          "name": "stdout",
          "output_type": "stream",
          "text": [
            "t-statistic: -0.10\n",
            "p-value: 0.922\n",
            "Fail to reject the null hypothesis.\n",
            "There is no significant difference in quality between Golan and Judean Hills Cabernet Sauvignon wines.\n"
          ]
        }
      ],
      "source": [
        "print(f\"t-statistic: {t_statistic:.2f}\")\n",
        "print(f\"p-value: {p_value:.3f}\")\n",
        "\n",
        "alpha = 0.05  # Significance level\n",
        "\n",
        "if p_value < alpha:\n",
        "    print(\"Reject the null hypothesis.\")\n",
        "    print(\"There is a significant difference in quality between Golan and Judean Hills Cabernet Sauvignon wines.\")\n",
        "else:\n",
        "    print(\"Fail to reject the null hypothesis.\")\n",
        "    print(\"There is no significant difference in quality between Golan and Judean Hills Cabernet Sauvignon wines.\")"
      ]
    },
    {
      "cell_type": "markdown",
      "id": "_LTV2Hr1LEKP",
      "metadata": {
        "id": "_LTV2Hr1LEKP"
      },
      "source": [
        "4. end test"
      ]
    },
    {
      "cell_type": "markdown",
      "id": "0HXUJISWdrAQ",
      "metadata": {
        "id": "0HXUJISWdrAQ"
      },
      "source": [
        "5."
      ]
    },
    {
      "cell_type": "code",
      "execution_count": 34,
      "id": "fK3XyjUEdtAm",
      "metadata": {
        "colab": {
          "base_uri": "https://localhost:8080/"
        },
        "id": "fK3XyjUEdtAm",
        "outputId": "5df7d4ac-35c5-4b9a-9451-896ec6c9cbd2"
      },
      "outputs": [
        {
          "name": "stderr",
          "output_type": "stream",
          "text": [
            "/usr/local/lib/python3.10/dist-packages/scipy/stats/_axis_nan_policy.py:531: RuntimeWarning: Precision loss occurred in moment calculation due to catastrophic cancellation. This occurs when the data are nearly identical. Results may be unreliable.\n",
            "  res = hypotest_fun_out(*samples, **kwds)\n"
          ]
        },
        {
          "data": {
            "text/plain": [
              "{('Binyamina', \"Segal's\"): 0.7804868685868019,\n",
              " ('Binyamina', 'Tabor'): 0.8026095586156416,\n",
              " ('Binyamina', 'Yatir'): 0.5235978387861936,\n",
              " ('Binyamina', 'Carmel'): 0.6533843669774021,\n",
              " ('Binyamina', 'Or Haganuz'): 0.7169805727627502,\n",
              " ('Binyamina', 'Shiloh Winery'): 0.2899108743161179,\n",
              " ('Binyamina', 'Flam'): 0.8110070800293608,\n",
              " ('Binyamina', 'Psagot'): 0.7215867449329232,\n",
              " ('Binyamina', 'Golan Heights Winery'): 0.9435492500300957,\n",
              " ('Binyamina', 'Recanati'): 0.19991116072200682,\n",
              " ('Bazelet HaGolan', 'Binyamina'): 0.24466068784342,\n",
              " ('Bazelet HaGolan', \"Segal's\"): 0.11635036904751875,\n",
              " ('Bazelet HaGolan', 'Tabor'): 0.15183454328291213,\n",
              " ('Bazelet HaGolan', 'Yatir'): 0.3486411394402042,\n",
              " ('Bazelet HaGolan', 'Carmel'): 0.06471368864053594,\n",
              " ('Bazelet HaGolan', 'Or Haganuz'): 0.46852713556223213,\n",
              " ('Bazelet HaGolan', 'Shiloh Winery'): 0.6433299631818679,\n",
              " ('Bazelet HaGolan', 'Flam'): 0.20615125863732092,\n",
              " ('Bazelet HaGolan', 'Psagot'): 0.022703869245827225,\n",
              " ('Bazelet HaGolan', 'Golan Heights Winery'): 0.1595805827304246,\n",
              " ('Bazelet HaGolan', 'Recanati'): 0.01902824069747537,\n",
              " (\"Segal's\", 'Tabor'): 0.553506466851883,\n",
              " (\"Segal's\", 'Yatir'): 0.30948569973007395,\n",
              " (\"Segal's\", 'Shiloh Winery'): 0.1396833903868618,\n",
              " ('Tabor', 'Yatir'): 0.5185185185185242,\n",
              " ('Carmel', \"Segal's\"): 0.8866177726472151,\n",
              " ('Carmel', 'Tabor'): 0.43928484904570164,\n",
              " ('Carmel', 'Yatir'): 0.21717584592317007,\n",
              " ('Carmel', 'Or Haganuz'): 0.38163627077923845,\n",
              " ('Carmel', 'Shiloh Winery'): 0.08629474330456717,\n",
              " ('Carmel', 'Flam'): 0.45240164971279206,\n",
              " ('Carmel', 'Psagot'): 0.912258677366355,\n",
              " ('Carmel', 'Golan Heights Winery'): 0.651064432000982,\n",
              " ('Carmel', 'Recanati'): 0.23499262373289004,\n",
              " ('Or Haganuz', \"Segal's\"): 0.5085272072918583,\n",
              " ('Or Haganuz', 'Tabor'): 0.8512370141369244,\n",
              " ('Or Haganuz', 'Yatir'): 0.8512370141369244,\n",
              " ('Or Haganuz', 'Shiloh Winery'): 0.5484242619722342,\n",
              " ('Or Haganuz', 'Psagot'): 0.41219078342438104,\n",
              " ('Or Haganuz', 'Recanati'): 0.12245512614641794,\n",
              " ('Shiloh Winery', 'Tabor'): 0.1161165235168165,\n",
              " ('Shiloh Winery', 'Yatir'): 0.3739009663000558,\n",
              " ('Flam', \"Segal's\"): 0.5704119389588092,\n",
              " ('Flam', 'Tabor'): 1.0,\n",
              " ('Flam', 'Yatir'): 0.5790154287159031,\n",
              " ('Flam', 'Or Haganuz'): 0.8593081179143136,\n",
              " ('Flam', 'Shiloh Winery'): 0.20510645520407889,\n",
              " ('Flam', 'Psagot'): 0.369657670746791,\n",
              " ('Flam', 'Golan Heights Winery'): 0.7280074385381989,\n",
              " ('Flam', 'Recanati'): 0.1418152656996452,\n",
              " ('Barkan', 'Binyamina'): 0.4817190644268654,\n",
              " ('Barkan', 'Bazelet HaGolan'): 0.08041966864289432,\n",
              " ('Barkan', \"Segal's\"): 0.6264591265674002,\n",
              " ('Barkan', 'Tabor'): 0.3717566343982184,\n",
              " ('Barkan', 'Yatir'): 0.21131700389033153,\n",
              " ('Barkan', 'Carmel'): 0.6553017249280148,\n",
              " ('Barkan', 'Or Haganuz'): 0.3129200121571923,\n",
              " ('Barkan', 'Shiloh Winery'): 0.10710617862145809,\n",
              " ('Barkan', 'Flam'): 0.3773491311493985,\n",
              " ('Barkan', 'Psagot'): 0.659843924843164,\n",
              " ('Barkan', 'Golan Heights Winery'): 0.41838301379171805,\n",
              " ('Barkan', 'Recanati'): 0.49893655149693283,\n",
              " ('Psagot', \"Segal's\"): 0.9673020170536188,\n",
              " ('Psagot', 'Tabor'): 0.3009917566539321,\n",
              " ('Psagot', 'Yatir'): 0.10302055630588712,\n",
              " ('Psagot', 'Shiloh Winery'): 0.010611745107949374,\n",
              " ('Psagot', 'Recanati'): 0.2739754586163284,\n",
              " ('Golan Heights Winery', \"Segal's\"): 0.7980667305490446,\n",
              " ('Golan Heights Winery', 'Tabor'): 0.720405733873487,\n",
              " ('Golan Heights Winery', 'Yatir'): 0.4238464501167918,\n",
              " ('Golan Heights Winery', 'Or Haganuz'): 0.6141121441891937,\n",
              " ('Golan Heights Winery', 'Shiloh Winery'): 0.20780393038469705,\n",
              " ('Golan Heights Winery', 'Psagot'): 0.7530796686533276,\n",
              " ('Golan Heights Winery', 'Recanati'): 0.13265456510239365,\n",
              " ('Alexander', 'Binyamina'): 0.6657954014589003,\n",
              " ('Alexander', 'Bazelet HaGolan'): 0.38289263890488645,\n",
              " ('Alexander', \"Segal's\"): 0.43583931372845763,\n",
              " ('Alexander', 'Tabor'): 0.820559360097733,\n",
              " ('Alexander', 'Yatir'): 0.820559360097733,\n",
              " ('Alexander', 'Carmel'): 0.3089262192117863,\n",
              " ('Alexander', 'Or Haganuz'): 1.0,\n",
              " ('Alexander', 'Shiloh Winery'): 0.46936109078827787,\n",
              " ('Alexander', 'Flam'): 0.8302398938684556,\n",
              " ('Alexander', 'Barkan'): 0.24301377046997946,\n",
              " ('Alexander', 'Psagot'): 0.33077155702644434,\n",
              " ('Alexander', 'Golan Heights Winery'): 0.5553332758404899,\n",
              " ('Alexander', 'Recanati'): 0.07564220827699696,\n",
              " ('Recanati', \"Segal's\"): 0.26196543825171625,\n",
              " ('Recanati', 'Tabor'): 0.13542184132184892,\n",
              " ('Recanati', 'Yatir'): 0.0633028091156302,\n",
              " ('Recanati', 'Shiloh Winery'): 0.025469027108456433}"
            ]
          },
          "execution_count": 34,
          "metadata": {},
          "output_type": "execute_result"
        }
      ],
      "source": [
        "def two_smp_t(smp1, smp2):\n",
        "    return stats.ttest_ind(smp1, smp2).pvalue\n",
        "\n",
        "\n",
        "tests_res = {}\n",
        "\n",
        "for w1 in wineries:\n",
        "    for w2 in wineries:\n",
        "        if w1 < w2:\n",
        "            smp1 = israeli_wines[israeli_wines.winery == w1]['points'].values\n",
        "            smp2 = israeli_wines[israeli_wines.winery == w2]['points'].values\n",
        "            tests_res[(w1, w2)] = two_smp_t(smp1, smp2)\n",
        "\n",
        "tests_res"
      ]
    },
    {
      "cell_type": "code",
      "execution_count": 35,
      "id": "WRC9n9GGeHvT",
      "metadata": {
        "colab": {
          "base_uri": "https://localhost:8080/"
        },
        "id": "WRC9n9GGeHvT",
        "outputId": "cd7a52b2-2a35-4302-c94d-9ffc29302da1"
      },
      "outputs": [
        {
          "data": {
            "text/plain": [
              "array([0.01061175, 0.01902824, 0.02270387, 0.02546903, 0.06330281,\n",
              "       0.06471369, 0.07564221, 0.08041967, 0.08629474])"
            ]
          },
          "execution_count": 35,
          "metadata": {},
          "output_type": "execute_result"
        }
      ],
      "source": [
        "pv = list(tests_res.values())\n",
        "m = len(pv)\n",
        "\n",
        "idcs = np.argsort(pv)\n",
        "sorted_pvals = np.array(pv)[idcs]\n",
        "\n",
        "percentage = 10\n",
        "sub_list_length = int(len(sorted_pvals) / percentage)\n",
        "sub_list_p_values = sorted_pvals[:sub_list_length]\n",
        "sub_list_p_values"
      ]
    },
    {
      "cell_type": "code",
      "execution_count": 36,
      "id": "X2zAJym_eHi8",
      "metadata": {
        "colab": {
          "base_uri": "https://localhost:8080/",
          "height": 670
        },
        "id": "X2zAJym_eHi8",
        "outputId": "d18e1405-1180-4776-9e49-04f7a0136fd3"
      },
      "outputs": [
        {
          "data": {
            "image/png": "[encoded data removed]",
            "text/plain": [
              "<Figure size 2000x700 with 1 Axes>"
            ]
          },
          "metadata": {},
          "output_type": "display_data"
        }
      ],
      "source": [
        "import matplotlib.pyplot as plt\n",
        "\n",
        "plt.rcParams[\"figure.figsize\"] = (20, 7)\n",
        "plt.rcParams.update({'font.size': 18})\n",
        "\n",
        "x_axis = range(sub_list_length)\n",
        "plt.scatter(x_axis, sub_list_p_values)\n",
        "plt.xlabel('Rank')\n",
        "plt.ylabel('p-value')\n",
        "plt.title(f'Smallest {percentage}% p-values in order')\n",
        "plt.show()"
      ]
    },
    {
      "cell_type": "code",
      "execution_count": 37,
      "id": "khXwXZ4beHZQ",
      "metadata": {
        "colab": {
          "base_uri": "https://localhost:8080/",
          "height": 639
        },
        "id": "khXwXZ4beHZQ",
        "outputId": "caa5b28a-74d2-48f8-ce17-77372664683c"
      },
      "outputs": [
        {
          "data": {
            "image/png": "[encoded data removed]",
            "text/plain": [
              "<Figure size 2000x700 with 1 Axes>"
            ]
          },
          "metadata": {},
          "output_type": "display_data"
        }
      ],
      "source": [
        "alpha = 0.05\n",
        "\n",
        "plt.scatter(np.arange(1, len(pv) + 1), sorted_pvals)\n",
        "\n",
        "# Bonferroni's:\n",
        "plt.plot([1, m], [alpha / m, alpha / m], '--r', alpha=.3)\n",
        "plt.plot([1, m], [alpha, alpha], '--g', alpha=.3)\n",
        "\n",
        "# BH:\n",
        "ell = np.arange(1, m + 1) / m * alpha\n",
        "plt.plot(np.arange(1, m + 1), ell, '--b')\n",
        "\n",
        "plt.ylabel('p-value')\n",
        "plt.xlabel('test #')\n",
        "plt.show()"
      ]
    },
    {
      "cell_type": "code",
      "execution_count": 38,
      "id": "cK8Jjv-2eHN_",
      "metadata": {
        "colab": {
          "base_uri": "https://localhost:8080/"
        },
        "id": "cK8Jjv-2eHN_",
        "outputId": "4586412e-6cb6-459d-c45b-a9c48aa80a5f"
      },
      "outputs": [
        {
          "name": "stdout",
          "output_type": "stream",
          "text": [
            "Discovered by Bonferroni:\n",
            "[]\n",
            "\n",
            "Discovered by BH:\n",
            "[]\n"
          ]
        }
      ],
      "source": [
        "# Discoveries by Bonferroni:\n",
        "rejected_bonferroni = sorted_pvals * len(sorted_pvals) < alpha\n",
        "rejected_bonferroni_pairs_list = [list(tests_res.keys())[i] for i in idcs[rejected_bonferroni]]\n",
        "\n",
        "print(f\"Discovered by Bonferroni:\\n\"\n",
        "      f\"{rejected_bonferroni_pairs_list}\")\n",
        "\n",
        "# Discoveries by BH:\n",
        "rejected_BH = sorted_pvals < ell\n",
        "rejected_BH_pairs_list = [list(tests_res.keys())[i] for i in idcs[rejected_BH]]\n",
        "print(f\"\\nDiscovered by BH:\\n\"\n",
        "      f\"{rejected_BH_pairs_list}\")"
      ]
    },
    {
      "cell_type": "code",
      "execution_count": 39,
      "id": "-Q5nAevNed4T",
      "metadata": {
        "colab": {
          "base_uri": "https://localhost:8080/"
        },
        "id": "-Q5nAevNed4T",
        "outputId": "2ab6dde6-2813-4e25-a131-d5d9c282f925"
      },
      "outputs": [
        {
          "name": "stdout",
          "output_type": "stream",
          "text": [
            "There are 0 false pairs using BH.\n",
            "It is same pairs than we discovered using Bonfferoni correction (0 pairs).\n"
          ]
        }
      ],
      "source": [
        "print(f'There are {len(rejected_BH_pairs_list)} false pairs using BH.\\n'\n",
        "      f'It is same pairs than we discovered using Bonfferoni correction ({len(rejected_bonferroni_pairs_list)} pairs).')"
      ]
    },
    {
      "cell_type": "code",
      "execution_count": 40,
      "id": "_X-pgrESed1T",
      "metadata": {
        "colab": {
          "base_uri": "https://localhost:8080/",
          "height": 639
        },
        "id": "_X-pgrESed1T",
        "outputId": "9093844c-46f0-42f5-859f-53c442c09806"
      },
      "outputs": [
        {
          "data": {
            "image/png": "[encoded data removed]",
            "text/plain": [
              "<Figure size 2000x700 with 1 Axes>"
            ]
          },
          "metadata": {},
          "output_type": "display_data"
        }
      ],
      "source": [
        "plt.scatter(np.arange(1, len(pv) + 1), sorted_pvals)\n",
        "\n",
        "# Discoveries by Bonferroni's:\n",
        "ell = np.arange(1, m + 1) / m * alpha\n",
        "ell_dep = np.arange(1, m + 1) / m * alpha / (np.log(m))\n",
        "\n",
        "plt.plot([1, m], [alpha / m, alpha / m], '--r', alpha=.3)\n",
        "plt.plot([1, m], [alpha, alpha], '--g', alpha=.3)\n",
        "\n",
        "plt.plot(np.arange(1, m + 1), ell, '--b', alpha=.3)\n",
        "plt.plot(np.arange(1, m + 1), ell_dep, '--m')\n",
        "\n",
        "plt.ylabel('p-value')\n",
        "plt.xlabel('test #')\n",
        "plt.show()"
      ]
    },
    {
      "cell_type": "code",
      "execution_count": 41,
      "id": "FjElzdA-edxt",
      "metadata": {
        "colab": {
          "base_uri": "https://localhost:8080/"
        },
        "id": "FjElzdA-edxt",
        "outputId": "7ba4d2de-bb6f-4f7f-f4cc-3b5d6e33a30f"
      },
      "outputs": [
        {
          "name": "stdout",
          "output_type": "stream",
          "text": [
            "Discovered by BH w/o independence assumption:\n",
            "[]\n",
            "\n",
            "There are 0 false pairs using BH w/o independence assumption.\n",
            "It is same pairs than we discovered using Bonfferoni correction (0 pairs).\n"
          ]
        }
      ],
      "source": [
        "rejected_BH_without_independence = sorted_pvals < ell_dep\n",
        "rejected_BH_without_independence_pairs_list = [list(tests_res.keys())[i] for i in\n",
        "                                               idcs[rejected_BH_without_independence]]\n",
        "print(f\"Discovered by BH w/o independence assumption:\\n\"\n",
        "      f\"{rejected_BH_without_independence_pairs_list}\\n\")\n",
        "\n",
        "print(\n",
        "    f'There are {len(rejected_BH_without_independence_pairs_list)} false pairs using BH w/o independence assumption.\\n'\n",
        "    f'It is same pairs than we discovered using Bonfferoni correction ({len(rejected_bonferroni_pairs_list)} pairs).')"
      ]
    },
    {
      "cell_type": "markdown",
      "id": "f38c4d4f",
      "metadata": {
        "id": "f38c4d4f"
      },
      "source": [
        "## Problem 2: Exact size of Bonferroni's test\n",
        "Suppose that we run multiple tests, each against $H_{0i}$ for $i=1,\\ldots,n$, with independent data and obtain P-values $p_1,\\ldots,p_n$. We wish to test the null hypothesis:\n",
        "$$\n",
        "H_0\\,:\\,\\text{All tests are null} = \\cap_{i=1}^n H_{0i}\n",
        "$$\n",
        "at the level $\\alpha$ (e.g., $\\alpha=0.05$). In class, we introduced Bonferroni's procedure that guarantees a test of size $\\alpha$ regardless of whether the hypotheses are independent or not. This means that $\\alpha$ bounds the probability of falsely rejecting $H_0$ form above.\n",
        "\n",
        "1. Argue that Bonferroni's procedure is equivalent to rejecting $H_0$ if $\\min p_i \\leq \\alpha/n$.\n",
        "2. Assuming that the hypotheses are independent, find the exact size of the test in Bonferroni's procedure. Namely, a better (smaller) upper bound on the test's size than $\\alpha$.\n",
        "3. For $\\alpha=0.05$, evaluate the difference between $\\alpha$ and the exact test's size for $n=2,...,50$. Discuss what you see.\n",
        "\n"
      ]
    },
    {
      "cell_type": "markdown",
      "id": "E2nQnNv6Vkog",
      "metadata": {
        "id": "E2nQnNv6Vkog"
      },
      "source": [
        "1.\n",
        "\n",
        "- We have n tests (e.g n=${m \\choose j}$ where j <= m)\n",
        "- We conduct each test at level $\\frac{\\alpha}{n}$ (e.g. for t-tests, we reject based on $t_{m-k}^{(1-\\frac{\\alpha}{2n})}$)\n",
        "- Under this procedure:\n",
        "$$Pr(reject \\quad something | H_0 \\quad is \\quad true) =$$\n",
        "$$Pr(min \\quad p_i <= \\frac{\\alpha}{n}) =$$\n",
        "$$Pr[(p_1 <= \\frac{\\alpha}{n}) \\cup (p_2 <= \\frac{\\alpha}{n}) \\cup \\cdots \\cup (p_n <= \\frac{\\alpha}{n})] =$$\n",
        "\n",
        "$$\\sum_{i=1}^{n} Pr(p_i <= \\frac{\\alpha}{n}) =$$\n",
        "$$\\sum_{l=1}^{n} \\frac{\\alpha}{n} <= n \\cdot \\frac{\\alpha}{n} = \\alpha$$\n"
      ]
    },
    {
      "cell_type": "markdown",
      "id": "sbHfPaTEVrqW",
      "metadata": {
        "id": "sbHfPaTEVrqW"
      },
      "source": [
        "2.\n",
        "Using this step from above, we can expand it:\n",
        "\n",
        "$$Pr[(p_1 <= \\frac{\\alpha}{n}) \\cup (p_2 <= \\frac{\\alpha}{n}) \\cup \\cdots \\cup (p_n <= \\frac{\\alpha}{n})] =$$\n",
        "$$1 - Pr[(p_1 > \\frac{\\alpha}{n}) \\cap (p_2 > \\frac{\\alpha}{n}) \\cap \\cdots \\cap (p_n > \\frac{\\alpha}{n})] =$$\n",
        "$$1 - \\prod_{i=1}^{n} Pr(p_i > \\frac{\\alpha}{n}) =$$\n",
        "$$1 - \\prod_{i=1}^{n} [1 - Pr(p_i <= \\frac{\\alpha}{n})]$$\n",
        "\n",
        "And again, from above $Pr(p_i <= \\frac{\\alpha}{n}) = \\frac{\\alpha}{n}$ so:\n",
        "$$1 - \\prod_{i=1}^{n} [1 - \\frac{\\alpha}{n}] =$$\n",
        "$$1 - (1 - \\frac{\\alpha}{n})^n$$"
      ]
    },
    {
      "cell_type": "markdown",
      "id": "nTxf72f5V484",
      "metadata": {
        "id": "nTxf72f5V484"
      },
      "source": [
        "3."
      ]
    },
    {
      "cell_type": "code",
      "execution_count": 42,
      "id": "WnEvbUsFV4RG",
      "metadata": {
        "colab": {
          "base_uri": "https://localhost:8080/"
        },
        "id": "WnEvbUsFV4RG",
        "outputId": "cd4261e5-4317-4374-9b46-998e0fdb096b"
      },
      "outputs": [
        {
          "name": "stdout",
          "output_type": "stream",
          "text": [
            "n=2, value=0.04937500000000006\n",
            "n=3, value=0.04917129629629646\n",
            "n=4, value=0.049070288085937275\n",
            "n=5, value=0.04900995010000009\n",
            "n=6, value=0.04896983531023591\n",
            "n=7, value=0.04894123581227394\n",
            "n=8, value=0.04891981559586811\n",
            "n=9, value=0.04890317281799017\n",
            "n=10, value=0.048889869534228136\n",
            "n=11, value=0.0488789922522731\n",
            "n=12, value=0.04886993281129881\n",
            "n=13, value=0.04886227064981796\n",
            "n=14, value=0.048855705648663816\n",
            "n=15, value=0.04885001789563237\n",
            "n=16, value=0.048845042569365726\n",
            "n=17, value=0.04884065370486401\n",
            "n=18, value=0.04883675338038196\n",
            "n=19, value=0.04883326432487012\n",
            "n=20, value=0.04883012474683324\n",
            "n=21, value=0.048827284642970814\n",
            "n=22, value=0.04882470311503839\n",
            "n=23, value=0.048822346387668136\n",
            "n=24, value=0.04882018632241558\n",
            "n=25, value=0.048818199288886865\n",
            "n=26, value=0.04881636529671696\n",
            "n=27, value=0.04881466732067341\n",
            "n=28, value=0.0488130907705423\n",
            "n=29, value=0.048811623070831534\n",
            "n=30, value=0.048810253324615305\n",
            "n=31, value=0.048808972042497345\n",
            "n=32, value=0.048807770922485005\n",
            "n=33, value=0.04880664266987367\n",
            "n=34, value=0.048805580848999\n",
            "n=35, value=0.04880457976037933\n",
            "n=36, value=0.04880363433838786\n",
            "n=37, value=0.048802740065520434\n",
            "n=38, value=0.048801892900206534\n",
            "n=39, value=0.04880108921574933\n",
            "n=40, value=0.04880032574840909\n",
            "n=41, value=0.04879959955312374\n",
            "n=42, value=0.048798907965524885\n",
            "n=43, value=0.048798248569286495\n",
            "n=44, value=0.048797619167904815\n",
            "n=45, value=0.048797017760272676\n",
            "n=46, value=0.04879644251941462\n",
            "n=47, value=0.048795891773937505\n",
            "n=48, value=0.04879536399184259\n",
            "n=49, value=0.048794857766264244\n",
            "n=50, value=0.04879437180296864\n"
          ]
        }
      ],
      "source": [
        "alpha = 0.05\n",
        "\n",
        "for n in range(2, 51):\n",
        "    print(f'n={n}, value={1 - (1 - (alpha / n)) ** n}')"
      ]
    },
    {
      "cell_type": "code",
      "execution_count": 43,
      "id": "dvnRjjtZV_UP",
      "metadata": {
        "colab": {
          "base_uri": "https://localhost:8080/",
          "height": 645
        },
        "id": "dvnRjjtZV_UP",
        "outputId": "14eca2d9-36d6-4439-89c5-ebd5f398e542"
      },
      "outputs": [
        {
          "data": {
            "image/png": "[encoded data removed]",
            "text/plain": [
              "<Figure size 2000x700 with 1 Axes>"
            ]
          },
          "metadata": {},
          "output_type": "display_data"
        }
      ],
      "source": [
        "import numpy as np\n",
        "import matplotlib.pyplot as plt\n",
        "\n",
        "n_range = np.arange(2, 51)\n",
        "corrected_p_value = [1 - (1 - (alpha / n)) ** n for n in n_range]\n",
        "plt.scatter(n_range, corrected_p_value)\n",
        "plt.ylabel('corrected p-value')\n",
        "plt.xlabel('n')\n",
        "plt.show()"
      ]
    },
    {
      "cell_type": "markdown",
      "id": "zwX4vfSEWabo",
      "metadata": {
        "id": "zwX4vfSEWabo"
      },
      "source": [
        "As n increases, the p value threshold for rejecting the Null decreases dramatically as well.\n",
        "\n",
        "The problem is that, by setting the p value so low, there is a decreasing chance that you have rejected a finding that really holds in the larger population.\n",
        "\n",
        "Even with p<=0.05, and n=50 without Bonferroni\\'s correction, there is a 90% chance that you reject a TRUE finding, but we rarely pay much attention to those (type II) errors - they become important in medical research, where failure to recognize a carcinogen, for example, can lead to fatal consequences."
      ]
    },
    {
      "cell_type": "markdown",
      "id": "71588ed2",
      "metadata": {
        "id": "71588ed2"
      },
      "source": [
        "<hr>\n",
        "<hr>"
      ]
    },
    {
      "cell_type": "markdown",
      "id": "a82cf79b",
      "metadata": {
        "id": "a82cf79b"
      },
      "source": [
        "## Problem 3: Prediction in Simple Regression\n",
        "Consider the linear model:\n",
        "$$\n",
        "    y_i = \\beta_0 + \\beta_1 x_i + \\epsilon_i,\\qquad \\epsilon_i \\overset{\\text{i.i.d.}}{\\sim} \\mathcal N(0,\\sigma^2)\n",
        "$$\n",
        "$$\n",
        "    Z = \\begin{pmatrix}\n",
        "    1 & x_1 \\\\\n",
        "    \\vdots & \\vdots \\\\\n",
        "    1 & x_n\n",
        "    \\end{pmatrix},\\quad \\beta=\\begin{pmatrix}\n",
        "    \\beta_0 \\\\\n",
        "    \\beta_1\n",
        "    \\end{pmatrix},\\qquad \\hat{\\beta}=(Z^\\top Z)^{-1} Z^\\top y\n",
        "$$\n",
        "Suppose we get a new data point $x_{n+1}$ and want to predict $y_{n+1}$. We want an interval in which this prediction will likely to land. In class, we used that\n",
        "$$\n",
        "\\operatorname{Var}[\\hat{\\beta}_0 + \\hat{\\beta}_1 x] = \\sigma^2 \\left( \\frac{1}{n} + \\frac{(x-\\bar{x})^2}{S_{XX }}\\right)\n",
        "$$\n",
        "to obtain a confidence interval for $\\beta_0 + \\beta_1 x$, and a confidence band for all $x \\in \\mathbb{R}$. In this question, you will use a similar reasoning to get a confidence interval (and bands) for $y_{n+1}$.\n",
        "1. Find the varaince of $y_{n+1} - (\\hat{\\beta}_0 + \\hat{\\beta}_1 x_{n+1})$ in terms of $\\sigma^2$ and $x_1,\\ldots,x_n$ and $x_{n+1}$ (you can use $\\bar{x}$ and $S_{XX}$ or any other well-defined function of $x_1,\\ldots,x_n$). Explain intuitively why it makes sense that this variance is larger than the variance of  $\\hat{\\beta}_0 + \\hat{\\beta}_1 x_{n+1}$.\n",
        "2. Find a $1-\\alpha$ confidence interval for $y_{n+1}$. Is this interval wider or narrower than that of $\\hat{\\beta}_0 + \\hat{\\beta}_1 x_{n+1}$? For what value of $x_{n+1}$ this interval is the narrowest?\n",
        "3. Suppose that we take the average of two responses $y$'s at the same $x_{n+1}$, say\n",
        "$$\n",
        "y_{n+1} =  \\frac{y_{n+1}^{(1)} + y_{n+1}^{(2)}}{2},\n",
        "$$\n",
        "where\n",
        "$$\n",
        "y_{n+1}^{(1)} = \\beta_0 + \\beta_1 x_{n+1} + \\epsilon_{n+1}^{(1)}\n",
        "$$\n",
        "and\n",
        "$$\n",
        "y_{n+1}^{(2)} = \\beta_0 + \\beta_1 x_{n+1} + \\epsilon_{n+1}^{(2)},\n",
        "$$\n",
        "where $\\epsilon_{n+1}^{(1)}$ and $\\epsilon_{n+1}^{(2)}$ are independent. Find a confidence interval for $y_{n+1}$. Is it wider or narrower than the interval in (2) ?\n",
        "\n",
        "Note: The confidence interval you derived in 2 is somewhat risky to use becasue it makes the strong assumption that $\\epsilon_{n+1}$ is normal. This is compared to, say, confidence intrvals for $\\hat{\\beta}_0$ and $\\hat{\\beta}_1$ which rely on averages over all observations $y_1,\\ldots,y_n$ so we can use the Central Limit Theorem to argue for normality. Things get better both in terms of varaince and normality when you can take multiple measurements at the same $x_{n+1}$ and average these measurements.\n"
      ]
    },
    {
      "cell_type": "markdown",
      "id": "0MP1DfyFfOmH",
      "metadata": {
        "id": "0MP1DfyFfOmH"
      },
      "source": [
        "1.\n",
        "$$\n",
        "V[y_{n+1} - (\\hat{\\beta}_0 + \\hat{\\beta}_1 x_{n+1})] =$$\n",
        "$$V(y_{n+1}) + V(\\hat{\\beta}_0 + \\hat{\\beta}_1 x_{n+1}) - 2 cov[y_{n+1}, (\\hat{\\beta}_0 + \\hat{\\beta}_1 x_{n+1})] =\n",
        "$$\n",
        "$$\\sigma^2 + \\sigma^2 \\left( \\frac{1}{n} + \\frac{(x_{n+1} - \\bar{x})^2}{S_{XX }}\\right) - 2 cov[y_{n+1}, (\\hat{\\beta}_0 + \\hat{\\beta}_1 x_{n+1})]\n",
        "$$\n",
        "\n",
        "We know that $\\operatorname{cov}(X+a, Y+b)=\\operatorname{cov}(X, Y)$ and that $\\operatorname{cov}(aX, bY) = ab \\operatorname{cov}(X, Y)$\n",
        "\n",
        "And more genereally: $\\operatorname{cov}(a X+b Y, c W+d V)=a c \\operatorname{cov}(X, W)+a d \\operatorname{cov}(X, V)+b c \\operatorname{cov}(Y, W)+b d \\operatorname{cov}(Y, V)$\n",
        "\n",
        "So, $cov[y_{n+1}, (\\hat{\\beta}_0 + \\hat{\\beta}_1 x_{n+1})] = cov[\\beta_0 + \\beta_1 x_i + \\epsilon_i, (\\hat{\\beta}_0 + \\hat{\\beta}_1 x_{n+1})] = cov[\\epsilon_i, (\\hat{\\beta}_0 + \\hat{\\beta}_1 x_{n+1})] =$\n",
        "\n",
        "$cov(\\epsilon_i, \\hat{\\beta}_0) + x_{n+1} \\cdot cov(\\epsilon_i, \\hat{\\beta}_1) = 0 + x_{n+1} \\cdot 0$\n",
        "\n",
        "Therefore, the last term from above ($2 cov[y_{n+1}, (\\hat{\\beta}_0 + \\hat{\\beta}_1 x_{n+1})]$) is 0.\n",
        "\n",
        "Finally,\n",
        "$$\\sigma^2 + \\sigma^2 \\left( \\frac{1}{n} + \\frac{(x_{n+1} - \\bar{x})^2}{S_{XX }}\\right) - 2 cov[y_{n+1}, (\\hat{\\beta}_0 + \\hat{\\beta}_1 x_{n+1})] =$$\n",
        "\n",
        "$$\\sigma^2 + \\sigma^2 \\left( \\frac{1}{n} + \\frac{(x_{n+1} - \\bar{x})^2}{S_{XX }}\\right) =$$\n",
        "\n",
        "$$ \\sigma^2 \\left( 1 +  \\frac{1}{n} + \\frac{(x_{n+1} - \\bar{x})^2}{S_{XX }}\\right)$$\n",
        "\n",
        "\n",
        "\n",
        "Intuitively, it makes sense that this variance is larger than the variance of  $\\hat{\\beta}_0 + \\hat{\\beta}_1 x_{n+1}$ because we added another term."
      ]
    },
    {
      "cell_type": "markdown",
      "id": "tYhsSPGVfVQO",
      "metadata": {
        "id": "tYhsSPGVfVQO"
      },
      "source": [
        "2.<br>\n",
        "We already know that:\n",
        "\n",
        "$$\n",
        "\\frac{y_{n+1} - (\\hat{\\beta}_0 + \\hat{\\beta}_1 x_{n+1})}{s \\sqrt{\\sigma^2 \\left( 1 +  \\frac{1}{n} + \\frac{(x_{n+1} - \\bar{x})^2}{S_{XX }}\\right)}} \\sim t_{n-2}\n",
        "$$\n",
        "\n",
        "Now, using the Variance we just calculated:\n",
        "\n",
        "$$\n",
        "P(y_{n+1} \\in  (\\hat{\\beta}_0 + \\hat{\\beta}_1 x_{n+1}) \\pm t_{n-2}^{1-\\frac{\\alpha}{2}} \\cdot s \\sqrt{\\sigma^2 \\left( 1 +  \\frac{1}{n} + \\frac{(x_{n+1} - \\bar{x})^2}{S_{XX }}\\right)}\n",
        "$$\n",
        "\n",
        "<br>This interval is wider than that of $\\hat{\\beta}_0 + \\hat{\\beta}_1 x_{n+1}$\n",
        "<br>Obviously, this interval is the narrowest for $x_{n+1} = \\bar{x}$, Because then the term: $\\frac{(x_{n+1} -  \\bar{x})^2}{S_{XX }}$\n",
        "Wil be zero."
      ]
    },
    {
      "cell_type": "markdown",
      "id": "kLN3uidkxk5w",
      "metadata": {
        "id": "kLN3uidkxk5w"
      },
      "source": [
        "3. <br>\n",
        "Similar way to the last sections, let's calculate the variance we get:\n",
        "$$P(y_{n+1} \\in  (\\hat{\\beta}_0 + \\hat{\\beta}_1 x_{n+1}) \\pm t_{n-2}^{1-\\frac{\\alpha}{2}} \\cdot s \\sqrt{\\sigma^2 \\left( \\frac{1}{2} +  \\frac{1}{n} + \\frac{(x_{n+1} - \\bar{x})^2}{S_{XX }}\\right)} $$\n",
        "\n",
        "since now, $V(y_{n+1}) = V(\\frac{\\epsilon_{n+1}^{(1)}+ \\epsilon_{n+1}^{(2)}}{2}) = \\frac{\\sigma^2}{2} $\n",
        "\n",
        "this CI is of corse narrower then section (2). and generally, when $m \\to \\infty$ so CI becomes smaller, since the assumption of normality of $\\frac{1}{m}\\sum_{i}^{n}\\epsilon_{n+1}^{(i)} \\sim \\mathcal{N}(0, \\frac{\\sigma}{m})$ is more reasonable thanks to CLT"
      ]
    }
  ],
  "metadata": {
    "colab": {
      "provenance": []
    },
    "kernelspec": {
      "display_name": "env",
      "language": "python",
      "name": "python3"
    },
    "language_info": {
      "codemirror_mode": {
        "name": "ipython",
        "version": 3
      },
      "file_extension": ".py",
      "mimetype": "text/x-python",
      "name": "python",
      "nbconvert_exporter": "python",
      "pygments_lexer": "ipython3",
      "version": "3.10.11"
    }
  },
  "nbformat": 4,
  "nbformat_minor": 5
}
